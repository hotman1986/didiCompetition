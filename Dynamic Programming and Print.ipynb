{
 "cells": [
  {
   "cell_type": "code",
   "execution_count": 1,
   "metadata": {
    "scrolled": true
   },
   "outputs": [
    {
     "name": "stdout",
     "output_type": "stream",
     "text": [
      "The shortest value is 1.0\n",
      "The shortest path is  [(0, 2), (1, 2), (2, 1), (3, 1), (4, 0)]\n",
      "[[0. 0. 1. 0. 0.]\n",
      " [0. 0. 1. 0. 0.]\n",
      " [0. 1. 0. 0. 0.]\n",
      " [0. 1. 0. 0. 0.]\n",
      " [1. 0. 0. 0. 0.]]\n"
     ]
    }
   ],
   "source": [
    "import numpy as np\n",
    "sample3 = np.array([[1, 2, 3, 4, 5],\n",
    "                   [5, 4, 3, 2, 1],\n",
    "                   [1, 3, 2, 5, 4],\n",
    "                   [1, 2, 1, 5, 3],\n",
    "                   [2, 5, 4, 3, 1]])\n",
    "def minPath(A):\n",
    "        r, c = len(A), len(A[0])\n",
    "        P=np.random.randint(998,999,(r - 1, c))       \n",
    "        newrow = np.zeros(len(A))\n",
    "        P=np.vstack([P,newrow])\n",
    "         \n",
    "        for row in range(r-2 , -1, -1):\n",
    "            for col in range(c-1,-1,-1):\n",
    "                if col == 0:\n",
    "                    P[row][col] = min(abs(A[row+1][col]-A[row][col])+P[row+1][col],\n",
    "                                      abs(A[row+1][col+1]-A[row][col])+P[row+1][col + 1])                   \n",
    "                elif col == c - 1:\n",
    "                    P[row][col] = min(abs(A[row+1][col-1]-A[row][col])+P[row+1][col-1],\n",
    "                                      abs(A[row+1][col]-A[row][col])+P[row+1][col])                   \n",
    "                else:\n",
    "                    P[row][col] = min(abs(A[row + 1][col-1]-A[row][col])+P[row + 1][col-1],\n",
    "                                      abs(A[row+1][col + 1]-A[row][col])+P[row+1][col + 1],\n",
    "                                      abs(A[row+1][col]-A[row][col])+P[row+1][col])                   \n",
    "        return min(P[0]),P\n",
    "\n",
    "def print_path(A,weighted_matrix):\n",
    "    c=len(A)\n",
    "    node_i,node_j = 0,np.argmin(weighted_matrix[0])\n",
    "    route=[]\n",
    "    route.append((node_i,node_j))\n",
    "    route.append((node_i+1,node_j))\n",
    "    for i in range(len(A)-2):\n",
    "        if i ==0:\n",
    "            row = node_i+1\n",
    "            col = node_j\n",
    "        else:\n",
    "            row=x_path\n",
    "            col=y_path\n",
    "        \n",
    "        #print(row,col)\n",
    "        if col == 0:\n",
    "            min_path = min(abs(A[row+1][col]-A[row][col])+weighted_matrix[row+1][col],\n",
    "                              abs(A[row+1][col+1]-A[row][col])+weighted_matrix[row+1][col + 1])\n",
    "            print(min_path)\n",
    "            if min_path==abs(A[row+1][col]-A[row][col])+weighted_matrix[row+1][col]:\n",
    "                node_j=col\n",
    "            else:\n",
    "                node_j=col+1\n",
    "        elif col == c - 1:\n",
    "            min_path = min(abs(A[row+1][col-1]-A[row][col])+weighted_matrix[row+1][col-1],\n",
    "                              abs(A[row+1][col]-A[row][col])+weighted_matrix[row+1][col]) \n",
    "            #print(min_path)\n",
    "            if min_path == abs(A[row+1][col]-A[row][col])+weighted_matrix[row+1][col]:\n",
    "                node_j=col\n",
    "            else:\n",
    "                node_j=col-1\n",
    "\n",
    "        else:\n",
    "            min_path = min(abs(A[row + 1][col-1]-A[row][col])+weighted_matrix[row + 1][col-1],\n",
    "                              abs(A[row+1][col + 1]-A[row][col])+weighted_matrix[row+1][col + 1],\n",
    "                              abs(A[row+1][col]-A[row][col])+weighted_matrix[row+1][col]) \n",
    "            #print(min_path)\n",
    "            if min_path==abs(A[row + 1][col-1]-A[row][col])+weighted_matrix[row + 1][col-1]:\n",
    "                node_j = col-1\n",
    "            elif min_path==abs(A[row+1][col + 1]-A[row][col])+weighted_matrix[row+1][col + 1]:\n",
    "                node_j = col+1\n",
    "            else:\n",
    "                node_j=col\n",
    "\n",
    "        x_path = row+1\n",
    "        y_path = node_j\n",
    "\n",
    "        route.append((x_path,y_path))\n",
    "    return route\n",
    "def generate_image_path(A,shortest_path):\n",
    "    image=np.zeros(A.shape)\n",
    "    for x in range(len(A)):\n",
    "        image[shortest_path[x][0],shortest_path[x][1]]=1\n",
    "    return image\n",
    "shortest_value,weighted_matrix=minPath(sample3)\n",
    "print(\"The shortest value is\",shortest_value)\n",
    "shortest_path = print_path(sample3,weighted_matrix)\n",
    "print(\"The shortest path is \",shortest_path)\n",
    "generateImage= generate_image_path(sample3,shortest_path)\n",
    "print(generateImage)"
   ]
  },
  {
   "cell_type": "code",
   "execution_count": null,
   "metadata": {},
   "outputs": [],
   "source": []
  },
  {
   "cell_type": "code",
   "execution_count": null,
   "metadata": {},
   "outputs": [],
   "source": []
  }
 ],
 "metadata": {
  "kernelspec": {
   "display_name": "Python 3",
   "language": "python",
   "name": "python3"
  },
  "language_info": {
   "codemirror_mode": {
    "name": "ipython",
    "version": 3
   },
   "file_extension": ".py",
   "mimetype": "text/x-python",
   "name": "python",
   "nbconvert_exporter": "python",
   "pygments_lexer": "ipython3",
   "version": "3.5.2"
  }
 },
 "nbformat": 4,
 "nbformat_minor": 2
}
