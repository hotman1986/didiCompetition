{
 "cells": [
  {
   "cell_type": "code",
   "execution_count": 15,
   "metadata": {},
   "outputs": [],
   "source": [
    "##Animal is-a object (yes, sort of confusing) look at example\n",
    "class Animal(object):\n",
    "    pass\n",
    "##??\n",
    "class Dog(Animal):\n",
    "    def __init__(self,name):\n",
    "        self.name = name\n",
    "##??\n",
    "class Cat(Animal):\n",
    "    def __init__(self,name):\n",
    "        ##??\n",
    "        self.name=name\n",
    "##??\n",
    "class Person(object):\n",
    "    def __init__(self,name):\n",
    "        ##??\n",
    "        self.name = name\n",
    "        ## Person has a pet of some kind\n",
    "        self.pet = None\n",
    "##??\n",
    "class Employee(Person):\n",
    "    def __init__(self,name,salary):\n",
    "        ##??hmm what is this strange magic?\n",
    "        super(Employee,self).__init__(name)\n",
    "        ##??\n",
    "        self.salary = salary\n",
    "class Fish(object):\n",
    "    pass\n",
    "##??\n",
    "class Salmon(Fish):\n",
    "    pass\n",
    "##??\n",
    "class Halibut(Fish):\n",
    "    pass\n",
    "\n",
    "## rover is-a Dog\n",
    "rover = Dog('Rover')\n",
    "##??\n",
    "satan = Cat('Satan')\n",
    "##??\n",
    "mary = Person('Mary')\n",
    "##??\n",
    "mary.pet = satan\n",
    "##??\n",
    "frank = Employee('Frank',120000)\n",
    "##??\n",
    "frank.pet = rover\n",
    "##??\n",
    "flipper = Fish()\n",
    "##??\n",
    "crouse = Salmon()\n",
    "##??\n",
    "harry = Halibut()"
   ]
  },
  {
   "cell_type": "code",
   "execution_count": null,
   "metadata": {},
   "outputs": [],
   "source": []
  },
  {
   "cell_type": "code",
   "execution_count": null,
   "metadata": {},
   "outputs": [],
   "source": []
  },
  {
   "cell_type": "code",
   "execution_count": null,
   "metadata": {},
   "outputs": [],
   "source": []
  }
 ],
 "metadata": {
  "kernelspec": {
   "display_name": "Python 3",
   "language": "python",
   "name": "python3"
  },
  "language_info": {
   "codemirror_mode": {
    "name": "ipython",
    "version": 3
   },
   "file_extension": ".py",
   "mimetype": "text/x-python",
   "name": "python",
   "nbconvert_exporter": "python",
   "pygments_lexer": "ipython3",
   "version": "3.7.0"
  }
 },
 "nbformat": 4,
 "nbformat_minor": 2
}
