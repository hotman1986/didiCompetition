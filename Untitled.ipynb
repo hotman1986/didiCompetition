{
 "cells": [
  {
   "cell_type": "code",
   "execution_count": 6,
   "metadata": {},
   "outputs": [],
   "source": [
    "class Solution:\n",
    "    def minFallingPathSum(self, A):\n",
    "        r, c = len(A), len(A[0])\n",
    "        P=np.random.randint(998,999,(r - 1, c))        \n",
    "        newrow = np.zeros(len(A))\n",
    "        P=np.vstack([P,newrow])\n",
    "          \n",
    "        for row in range(r-2 , -1, -1):\n",
    "            for col in range(c-1,-1,-1):\n",
    "                if col == 0:\n",
    "                    P[row][col] = min(abs(A[row+1][col]-A[row][col])+P[row+1][col], \n",
    "                                      abs(A[row+1][col+1]-A[row][col])+P[row+1][col + 1])                    \n",
    "                elif col == c - 1:\n",
    "                    P[row][col] = min(abs(A[row+1][col-1]-A[row][col])+P[row+1][col-1], \n",
    "                                      abs(A[row+1][col]-A[row][col])+P[row+1][col])                    \n",
    "                else:\n",
    "                    P[row][col] = min(abs(A[row + 1][col-1]-A[row][col])+P[row + 1][col-1],\n",
    "                                      abs(A[row+1][col + 1]-A[row][col])+P[row+1][col + 1],\n",
    "                                      abs(A[row+1][col]-A[row][col])+P[row+1][col])                    \n",
    "                #print(row,col)                \n",
    "                #print(P)\n",
    "        return min(P[0]),P\n",
    "\n",
    "import numpy as np\n",
    "A = np.random.randint(9,size=(4,4))\n",
    "A=[[41,67,34,0,69],\n",
    "  [24,78,58,62,64],\n",
    "  [5,45,81,27,61],\n",
    "  [91,95,42,27,36],\n",
    "  [91,4,2,53,92]]\n",
    "wang=Solution()\n",
    "s,P=wang.minFallingPathSum(A)"
   ]
  },
  {
   "cell_type": "code",
   "execution_count": 6,
   "metadata": {},
   "outputs": [
    {
     "data": {
      "text/plain": [
       "32.0"
      ]
     },
     "execution_count": 6,
     "metadata": {},
     "output_type": "execute_result"
    }
   ],
   "source": []
  },
  {
   "cell_type": "code",
   "execution_count": null,
   "metadata": {},
   "outputs": [],
   "source": [
    "# np.argmin(a, axis=1)"
   ]
  },
  {
   "cell_type": "code",
   "execution_count": 7,
   "metadata": {},
   "outputs": [
    {
     "name": "stdout",
     "output_type": "stream",
     "text": [
      "1.0\n"
     ]
    }
   ],
   "source": [
    "import numpy as np\n",
    "sample3 = np.array([[1, 2, 3, 4, 5],\n",
    "                   [5, 4, 3, 2, 1],\n",
    "                   [1, 3, 2, 5, 4],\n",
    "                   [1, 2, 1, 5, 3],\n",
    "                   [2, 5, 4, 3, 1]])\n",
    "def minPath(A):\n",
    "        r, c = len(A), len(A[0])\n",
    "        P=np.random.randint(998,999,(r - 1, c))        \n",
    "        newrow = np.zeros(len(A))\n",
    "        P=np.vstack([P,newrow])\n",
    "          \n",
    "        for row in range(r-2 , -1, -1):\n",
    "            for col in range(c-1,-1,-1):\n",
    "                if col == 0:\n",
    "                    P[row][col] = min(abs(A[row+1][col]-A[row][col])+P[row+1][col], \n",
    "                                      abs(A[row+1][col+1]-A[row][col])+P[row+1][col + 1])                    \n",
    "                elif col == c - 1:\n",
    "                    P[row][col] = min(abs(A[row+1][col-1]-A[row][col])+P[row+1][col-1], \n",
    "                                      abs(A[row+1][col]-A[row][col])+P[row+1][col])                    \n",
    "                else:\n",
    "                    P[row][col] = min(abs(A[row + 1][col-1]-A[row][col])+P[row + 1][col-1],\n",
    "                                      abs(A[row+1][col + 1]-A[row][col])+P[row+1][col + 1],\n",
    "                                      abs(A[row+1][col]-A[row][col])+P[row+1][col])                    \n",
    "        return min(P[0]),P\n",
    "shortest_value,weighted_matrix=minPath(A)\n",
    "print(shortest_path)"
   ]
  },
  {
   "cell_type": "code",
   "execution_count": 11,
   "metadata": {},
   "outputs": [],
   "source": [
    "sample3 = np.array([[1, 2, 3, 4, 5],\n",
    "                   [5, 4, 3, 2, 1],\n",
    "                   [1, 3, 2, 5, 4],\n",
    "                   [1, 2, 1, 5, 3],\n",
    "                   [2, 5, 4, 3, 1]])"
   ]
  },
  {
   "cell_type": "code",
   "execution_count": 14,
   "metadata": {},
   "outputs": [],
   "source": [
    "for count_row in range(5):\n",
    "    node_i=count_row\n",
    "    node_j=np.argmin(weighted_matrix[0])"
   ]
  },
  {
   "cell_type": "code",
   "execution_count": null,
   "metadata": {},
   "outputs": [],
   "source": [
    "\n",
    "node_i,node_j = 0,np.argmin(weighted_matrix[0])\n",
    "node_i+=1\n",
    "node_j+=1\n",
    "if node_j"
   ]
  },
  {
   "cell_type": "code",
   "execution_count": 13,
   "metadata": {},
   "outputs": [
    {
     "data": {
      "text/plain": [
       "1"
      ]
     },
     "execution_count": 13,
     "metadata": {},
     "output_type": "execute_result"
    }
   ],
   "source": [
    "np.argmin(weighted_matrix[2])"
   ]
  },
  {
   "cell_type": "code",
   "execution_count": null,
   "metadata": {},
   "outputs": [],
   "source": []
  }
 ],
 "metadata": {
  "kernelspec": {
   "display_name": "Python 3",
   "language": "python",
   "name": "python3"
  },
  "language_info": {
   "codemirror_mode": {
    "name": "ipython",
    "version": 3
   },
   "file_extension": ".py",
   "mimetype": "text/x-python",
   "name": "python",
   "nbconvert_exporter": "python",
   "pygments_lexer": "ipython3",
   "version": "3.7.3"
  }
 },
 "nbformat": 4,
 "nbformat_minor": 2
}
