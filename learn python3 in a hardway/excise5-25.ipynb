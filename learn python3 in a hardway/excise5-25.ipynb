{
 "cells": [
  {
   "cell_type": "code",
   "execution_count": 1,
   "metadata": {},
   "outputs": [],
   "source": [
    "#ex5\n",
    "my_name = 'Zed A. shaw'\n",
    "my_age = 35 # note a lie\n",
    "my_height = 74#inches\n",
    "my_weight = 180 #lbs\n",
    "my_eyes = 'Blue'\n",
    "my_teeth = 'White'\n",
    "my_hair = 'Brown'\n",
    "\n",
    "print(f\"Let's talk about{my_name}.\")\n",
    "print(f\"He's {my_height} inches tall.\")\n",
    "print(f\"He's {my_weight} pounds heavy.\")\n",
    "print(f\"Actually that's not too heavy\")\n",
    "\n",
    "print(f\"He's got {my_eyes} eyes and {my_hair} hair.\")\n",
    "\n",
    "print(f\"His teeth are usually {my_teeth} depending on the coffee.\")\n",
    "\n",
    "#this line is tricky,try to get it exactly right\n",
    "total = my_age +my_height + my_weight\n",
    "print(f\"If I add {my_age},{my_height},and {my_weight} I get {total}\")"
   ]
  },
  {
   "cell_type": "code",
   "execution_count": null,
   "metadata": {},
   "outputs": [],
   "source": [
    "#ex6\n",
    "types_of_people = 10\n",
    "x =f\"There are {types_of_people} types of people\"\n",
    "\n",
    "binary=\"binary\"\n",
    "do_not=\"don't\"\n",
    "y = f\"Those who know {binary} and those who {do_not}.\"\n",
    "print(x)\n",
    "print(y)\n",
    "\n",
    "print(f\"I said:{x}\")\n",
    "print(f\"I also said: '{y}'\")\n",
    "\n",
    "hilarious = False\n",
    "joke_evaluation = \"Isn't that joke so funny?! {}\"###########good way to format\n",
    "print(joke_evaluation.format(hilarious))\n",
    "\n",
    "w = \"This is the left side of ...\"\n",
    "e= \"a string with a right side.\"\n",
    "print(w+e)\n"
   ]
  },
  {
   "cell_type": "code",
   "execution_count": 29,
   "metadata": {},
   "outputs": [
    {
     "name": "stdout",
     "output_type": "stream",
     "text": [
      "Mary had a little lamb.\n",
      "Its fleece was white as snow.\n",
      "And everywhere that Mary went.\n",
      "..........\n",
      "Cheese Burger\n"
     ]
    }
   ],
   "source": [
    "#ex7\n",
    "print(\"Mary had a little lamb.\")\n",
    "print(\"Its fleece was white as {}.\".format('snow'))\n",
    "print(\"And everywhere that Mary went.\")\n",
    "print(\".\"*10)#what'd that do?\n",
    "\n",
    "end1 = \"C\"\n",
    "end2 = \"h\"\n",
    "end3 = \"e\"\n",
    "end4 = \"e\"\n",
    "end5 = \"s\"\n",
    "end6 = \"e\"\n",
    "end7 = \"B\"\n",
    "end8 = \"u\"\n",
    "end9 = \"r\"\n",
    "end10 = \"g\"\n",
    "end11 = \"e\"\n",
    "end12 = \"r\"\n",
    "#watch that comma at the end. try removing it to see what h\n",
    "print(end1+end2+end3+end4+end5+end6,end=\" \")# add string and blank\n",
    "print(end7+end8+end9+end10+end11+end12)"
   ]
  },
  {
   "cell_type": "code",
   "execution_count": 34,
   "metadata": {},
   "outputs": [
    {
     "name": "stdout",
     "output_type": "stream",
     "text": [
      "__1 2 3 4\n",
      "__one two three four\n",
      "__True False False True\n",
      "__{} {} {} {} __{} {} {} {} __{} {} {} {} __{} {} {} {}\n",
      "__Try your Own text here Maybe a peom Or a song about fear\n"
     ]
    }
   ],
   "source": [
    "#ex8\n",
    "formatter = \"{} {} {} {}\"\n",
    "\n",
    "print(formatter.format(1,2,3,4))\n",
    "print(formatter.format(\"one\",\"two\",\"three\",\"four\"))\n",
    "print(formatter.format(True,False,False,True))\n",
    "print(formatter,formatter,formatter,formatter)\n",
    "print(formatter.format(\n",
    "\"Try your\",\n",
    "\"Own text here\",\n",
    "\"Maybe a peom\",\n",
    "\"Or a song about fear\"))"
   ]
  },
  {
   "cell_type": "code",
   "execution_count": 37,
   "metadata": {},
   "outputs": [
    {
     "name": "stdout",
     "output_type": "stream",
     "text": [
      "Here are the days:  Mon Tue Wed Thu Fri Sat Sun\n",
      "Here are the months:  Jan\n",
      "Feb\n",
      "Mar\n",
      "Apr\n",
      "May\n",
      "Jun\n",
      "Jul\n",
      "Aug\n",
      "\n",
      "There's something going on here.\n",
      "With the three double-quotes.\n",
      "We'll be able to type as much as we like.\n",
      "Even 4 lines if we want, or 5,or 6.\n"
     ]
    }
   ],
   "source": [
    "#ex9\n",
    "# Here's some new strange stuff, remember type it exactly.\n",
    "days = \"Mon Tue Wed Thu Fri Sat Sun\"\n",
    "months = \"Jan\\nFeb\\nMar\\nApr\\nMay\\nJun\\nJul\\nAug\"\n",
    "\n",
    "print(\"Here are the days: \",days)\n",
    "print(\"Here are the months: \",months)\n",
    "print(\"\"\"\n",
    "There's something going on here.\n",
    "With the three double-quotes.\n",
    "We'll be able to type as much as we like.\n",
    "Even 4 lines if we want, or 5,or 6.\"\"\")"
   ]
  },
  {
   "cell_type": "code",
   "execution_count": 67,
   "metadata": {},
   "outputs": [
    {
     "name": "stdout",
     "output_type": "stream",
     "text": [
      "\tI'm tabbed in.\n",
      "I'm split\n",
      "on a line.\n",
      "I'm \\ a \\ cat.\n",
      "\n",
      "I'll do a list:\n",
      "\t* Cat food\n",
      "\t* Fishies\n",
      "\t* Catnip\n",
      "\t* Grass\n",
      "\n",
      "ggg\u0007ggg\n",
      "hhh\bhhh\n",
      "aaa\f",
      "aaaassdfasdf\n",
      "aaa\n",
      "\n",
      "sdf\r",
      "sdfasdfasdf\n"
     ]
    }
   ],
   "source": [
    "#ex10\n",
    "tabby_cat = \"\\tI'm tabbed in.\"\n",
    "persian_cat = \"I'm split\\non a line.\"\n",
    "backslash_cat = \"I'm \\\\ a \\\\ cat.\"\n",
    "\n",
    "fat_cat = \"\"\"\n",
    "I'll do a list:\n",
    "\\t* Cat food\n",
    "\\t* Fishies\n",
    "\\t* Catnip\\n\\t* Grass\n",
    "\"\"\"\n",
    "print(tabby_cat)\n",
    "print(persian_cat)\n",
    "print(backslash_cat)\n",
    "print(fat_cat)\n",
    "print('ggg\\aggg')\n",
    "print('hhh\\bhhh')\n",
    "print('aaa\\faaa'+'assdfasdf')\n",
    "print('aaa\\n')\n",
    "print('sdf\\r'+'sdfasdfasdf')\n"
   ]
  },
  {
   "cell_type": "code",
   "execution_count": 3,
   "metadata": {},
   "outputs": [
    {
     "name": "stdout",
     "output_type": "stream",
     "text": [
      "How old are you? 32\n",
      "How tall are you? 180\n",
      "How much do you weigh? 75\n",
      "So, you're 32 old,180 tall and 75 heavy\n",
      "How old are you?\n",
      "32\n",
      "How tall are you?\n",
      "180\n",
      "How much do you weigh?\n",
      "75\n",
      "So, you're 32 old,180 tall and 75 heavy\n"
     ]
    }
   ],
   "source": [
    "#ex11\n",
    "print(\"How old are you?\",end=\" \")#####end=\" \" means not end the line with a newline character and go to the next line\n",
    "age = input()\n",
    "print(\"How tall are you?\", end=\" \")\n",
    "height = input()\n",
    "print(\"How much do you weigh?\", end=\" \")\n",
    "weight = input()\n",
    "\n",
    "print(f\"So, you're {age} old,{height} tall and {weight} heavy\")\n",
    "\n",
    "print(\"How old are you?\")\n",
    "age = input()\n",
    "print(\"How tall are you?\")\n",
    "height = input()\n",
    "print(\"How much do you weigh?\")\n",
    "weight = input()\n",
    "\n",
    "print(f\"So, you're {age} old,{height} tall and {weight} heavy\")"
   ]
  },
  {
   "cell_type": "code",
   "execution_count": 2,
   "metadata": {},
   "outputs": [
    {
     "name": "stdout",
     "output_type": "stream",
     "text": [
      "so you are good son of bitch\n"
     ]
    }
   ],
   "source": [
    "fker=\"son of bitch\"\n",
    "print(f\"so you are good {fker}\")"
   ]
  },
  {
   "cell_type": "code",
   "execution_count": 1,
   "metadata": {},
   "outputs": [
    {
     "name": "stdout",
     "output_type": "stream",
     "text": [
      "How old are you?32\n",
      "How tall are you?180cm\n",
      "How much do you weigh?75kg\n",
      "So, you're {age} old, {height} tall and {weight} heavy\n"
     ]
    }
   ],
   "source": [
    "#ex12\n",
    "age = input(\"How old are you?\")\n",
    "height = input(\"How tall are you?\")\n",
    "weight = input(\"How much do you weigh?\")\n",
    "\n",
    "print(f\"So, you're {age} old, {height} tall and {weight} heavy\")"
   ]
  },
  {
   "cell_type": "code",
   "execution_count": 6,
   "metadata": {},
   "outputs": [
    {
     "name": "stdout",
     "output_type": "stream",
     "text": [
      "The script is called: ['/usr/local/lib/python3.7/site-packages/ipykernel_launcher.py', '-f', '/root/.local/share/jupyter/runtime/kernel-61df78f1-d951-49d4-b476-9ce99f056f0b.json']\n",
      "Your first variable is: Anything Here 1\n",
      "Your second variable is: Anything Here 2\n",
      "Your third variable is: Anything Here 3\n"
     ]
    }
   ],
   "source": [
    "#ex13\n",
    "from sys import argv\n",
    "#read the WYSS section for how to run this\n",
    "script,first,second,third = argv,\"Anything Here 1\",\"Anything Here 2\",\"Anything Here 3\"\n",
    "print(\"The script is called:\",script)\n",
    "print(\"Your first variable is:\",first)\n",
    "print(\"Your second variable is:\",second)\n",
    "print(\"Your third variable is:\",third)#need a script"
   ]
  },
  {
   "cell_type": "code",
   "execution_count": 7,
   "metadata": {},
   "outputs": [
    {
     "name": "stdout",
     "output_type": "stream",
     "text": [
      "Hi tang,I'm the ['/usr/local/lib/python3.7/site-packages/ipykernel_launcher.py', '-f', '/root/.local/share/jupyter/runtime/kernel-61df78f1-d951-49d4-b476-9ce99f056f0b.json'] script.\n",
      "I'd like to ask you a few questions.\n",
      "Do you like me tang?\n",
      ">yes\n",
      "Where do you live tang?\n",
      ">parco gioeni\n",
      "What kind of computer do you have?\n",
      ">my own\n",
      "\n",
      "Alright, so you said yes about liking me.\n",
      "You live in parco gioeni. Not sure where that is.\n",
      "And you have amy own computer.Nice.\n"
     ]
    }
   ],
   "source": [
    "##ex14\n",
    "from sys import argv\n",
    "script,user_name = argv,\"tang\"\n",
    "prompt = '>'\n",
    "print(f\"Hi {user_name},I'm the {script} script.\")\n",
    "print(\"I'd like to ask you a few questions.\")\n",
    "print(f\"Do you like me {user_name}?\")\n",
    "likes = input(prompt)\n",
    "\n",
    "print(f\"Where do you live {user_name}?\")\n",
    "lives = input(prompt)\n",
    "\n",
    "print(\"What kind of computer do you have?\")\n",
    "computer = input(prompt)\n",
    "\n",
    "print(f\"\"\"\n",
    "Alright, so you said {likes} about liking me.\n",
    "You live in {lives}. Not sure where that is.\n",
    "And you have a {computer} computer.Nice.\"\"\")"
   ]
  },
  {
   "cell_type": "code",
   "execution_count": 2,
   "metadata": {},
   "outputs": [
    {
     "name": "stdout",
     "output_type": "stream",
     "text": [
      "Here's your file ex15_sample.txt:\n",
      "This is stuff I typed into a file.\n",
      "It is really cool stuff.\n",
      "Lots and lots of fun to have in here.\n",
      "Type the filename again:\n",
      ">ex13.py\n",
      "#ex13\n",
      "from sys import argv\n",
      "#read the WYSS section for how to run this\n",
      "\n",
      "script,first,second,third = argv\n",
      "\n",
      "print(\"The script is called:\",script)\n",
      "print(\"Your first variable is:\",first)\n",
      "print(\"Your second variable is:\",second)\n",
      "print(\"Your third variable is:\",third)\n",
      "script = input(\"script\")\n",
      "first = input(\"first\")\n",
      "second = input(\"second\")\n",
      "third = input(\"third\")\n",
      "print(\"The script is called:\",script)\n",
      "print(\"Your first variable is:\",first)\n",
      "print(\"Your second variable is:\",second)\n",
      "print(\"Your third variable is:\",third)\n",
      "Automatically open:\n",
      ">\n",
      "##ex14\n",
      "from sys import argv\n",
      "script,user_name = argv\n",
      "prompt = '>'\n",
      "print(f\"Hi {user_name},I'm the {script} script.\")\n",
      "print(\"I'd like to ask you a few questions.\")\n",
      "print(f\"Do you like me {user_name}?\")\n",
      "likes = input(prompt)\n",
      "\n",
      "print(f\"Where do you live {user_name}?\")\n",
      "lives = input(prompt)\n",
      "\n",
      "print(\"What kind of computer do you have?\")\n",
      "computer = input(prompt)\n",
      "\n",
      "print(f\"\"\"\n",
      "Alright, so you said {likes} about liking me.\n",
      "You live in {lives}. Not sure where that is.\n",
      "And you have a{computer} computer.Nice.\"\"\")\n"
     ]
    }
   ],
   "source": [
    "#ex15\n",
    "#read the files\n",
    "from sys import argv\n",
    "\n",
    "scirpt,filename=argv,\"ex15_sample.txt\"\n",
    "txt = open(filename)\n",
    "\n",
    "print(f\"Here's your file {filename}:\")\n",
    "print(txt.read())\n",
    "\n",
    "print(\"Type the filename again:\")\n",
    "file_again = input(\">\")\n",
    "txt_again = open(file_again)\n",
    "print(txt_again.read())\n",
    "\n",
    "print(\"Automatically open:\")\n",
    "print(\">\")\n",
    "txt_again = open(\"ex14.py\")\n",
    "print(txt_again.read())      \n",
    "#close files\n",
    "txt_again.close()"
   ]
  },
  {
   "cell_type": "code",
   "execution_count": 4,
   "metadata": {},
   "outputs": [
    {
     "name": "stdout",
     "output_type": "stream",
     "text": [
      "please input the file you want to openeditor.txt\n",
      "We're going to erase editor.txt.\n",
      "If you don't want that, hit CTRL-C(^C).\n",
      "If you do want that,hit RETURN.\n",
      "?\n",
      "Opening the file...\n",
      "Truncating the file. Goodbye!\n"
     ]
    },
    {
     "ename": "UnsupportedOperation",
     "evalue": "File not open for writing",
     "output_type": "error",
     "traceback": [
      "\u001b[0;31m---------------------------------------------------------------------------\u001b[0m",
      "\u001b[0;31mUnsupportedOperation\u001b[0m                      Traceback (most recent call last)",
      "\u001b[0;32m<ipython-input-4-69733a348dbb>\u001b[0m in \u001b[0;36m<module>\u001b[0;34m\u001b[0m\n\u001b[1;32m     13\u001b[0m \u001b[0;34m\u001b[0m\u001b[0m\n\u001b[1;32m     14\u001b[0m \u001b[0mprint\u001b[0m\u001b[0;34m(\u001b[0m\u001b[0;34m\"Truncating the file. Goodbye!\"\u001b[0m\u001b[0;34m)\u001b[0m\u001b[0;34m\u001b[0m\u001b[0;34m\u001b[0m\u001b[0m\n\u001b[0;32m---> 15\u001b[0;31m \u001b[0mtarget\u001b[0m\u001b[0;34m.\u001b[0m\u001b[0mtruncate\u001b[0m\u001b[0;34m(\u001b[0m\u001b[0;34m)\u001b[0m\u001b[0;34m\u001b[0m\u001b[0;34m\u001b[0m\u001b[0m\n\u001b[0m\u001b[1;32m     16\u001b[0m \u001b[0;34m\u001b[0m\u001b[0m\n\u001b[1;32m     17\u001b[0m \u001b[0mprint\u001b[0m\u001b[0;34m(\u001b[0m\u001b[0;34m\"Now I'm going to ask you for three lines.\"\u001b[0m\u001b[0;34m)\u001b[0m\u001b[0;34m\u001b[0m\u001b[0;34m\u001b[0m\u001b[0m\n",
      "\u001b[0;31mUnsupportedOperation\u001b[0m: File not open for writing"
     ]
    }
   ],
   "source": [
    "#ex16\n",
    "from sys import argv\n",
    "filename=input(\"please input the file you want to open\")\n",
    "script,filename = argv,filename\n",
    "\n",
    "print(f\"We're going to erase {filename}.\")\n",
    "print(\"If you don't want that, hit CTRL-C(^C).\")\n",
    "print(\"If you do want that,hit RETURN.\")\n",
    "\n",
    "input(\"?\")\n",
    "print(\"Opening the file...\")\n",
    "target = open(filename,'w')\n",
    "\n",
    "print(\"Truncating the file. Goodbye!\")\n",
    "target.truncate()\n",
    "\n",
    "print(\"Now I'm going to ask you for three lines.\")\n",
    "\n",
    "line1 = input(\"line 1: \")\n",
    "line2 = input(\"line 2: \")\n",
    "line3 = input(\"line 3: \")\n",
    "\n",
    "print(\"I'm going to write these to the files.\")\n",
    "\n",
    "target.write(line1)\n",
    "target.write(\"\\n\")\n",
    "target.write(line2)\n",
    "target.write(\"\\n\")\n",
    "target.write(line3)\n",
    "target.write(\"\\n\")\n",
    "#combine it with one write line\n",
    "\n",
    "target.write(f\"{line1} \\n{line2} \\n{line3}  \")\n",
    "\n",
    "print(\"And finally, we close it.\")\n",
    "target.close()\n"
   ]
  },
  {
   "cell_type": "code",
   "execution_count": 6,
   "metadata": {},
   "outputs": [
    {
     "name": "stdout",
     "output_type": "stream",
     "text": [
      "Copying from editor.txt to copy_editor.txt\n",
      "The input file is 249 bytes long\n",
      "Does the output file exist? True\n",
      "Ready,hit RETURN to continue,CTRL-C to abort.\n",
      "\n",
      "Alright,all done.\n"
     ]
    }
   ],
   "source": [
    "#ex17\n",
    "from sys import argv\n",
    "from os.path import exists\n",
    "scripit,from_file,to_file = argv,\"editor.txt\",\"copy_editor.txt\"\n",
    "\n",
    "print(f\"Copying from {from_file} to {to_file}\")\n",
    "\n",
    "#we could do these two on one line,how?\n",
    "in_file = open(from_file)\n",
    "indata = in_file.read()\n",
    "\n",
    "print(f\"The input file is {len(indata)} bytes long\")\n",
    "\n",
    "print(f\"Does the output file exist? {exists(to_file)}\")\n",
    "print(\"Ready,hit RETURN to continue,CTRL-C to abort.\")\n",
    "input()\n",
    "\n",
    "out_file = open(to_file,'w')\n",
    "out_file.write(indata)\n",
    "\n",
    "print(\"Alright,all done.\")\n",
    "\n",
    "out_file.close()\n",
    "in_file.close()"
   ]
  },
  {
   "cell_type": "code",
   "execution_count": 9,
   "metadata": {},
   "outputs": [
    {
     "name": "stdout",
     "output_type": "stream",
     "text": [
      "arg1:Zed,arg2: Shaw\n",
      "arg1:Zed,arg2:Shaw\n",
      "arg1:First!\n",
      "I go nothin'.\n"
     ]
    }
   ],
   "source": [
    "#ex18\n",
    "#this one is like your scripts with argv\n",
    "def print_two(*args):\n",
    "    arg1,arg2 = args\n",
    "    print(f\"arg1:{arg1},arg2: {arg2}\")\n",
    "#ok, that *args is actually pointless, we can just do this\n",
    "def print_two_again(arg1,arg2):\n",
    "    print(f\"arg1:{arg1},arg2:{arg2}\")\n",
    "#this just takes one argument\n",
    "def print_one(arg1):\n",
    "    print(f\"arg1:{arg1}\")\n",
    "#this one takes no arguments\n",
    "def print_none():\n",
    "    print(\"I go nothin'.\")\n",
    "\n",
    "print_two(\"Zed\",\"Shaw\")\n",
    "print_two_again(\"Zed\",\"Shaw\")\n",
    "print_one(\"First!\")\n",
    "print_none()\n"
   ]
  },
  {
   "cell_type": "code",
   "execution_count": 4,
   "metadata": {},
   "outputs": [
    {
     "name": "stdout",
     "output_type": "stream",
     "text": [
      "We can just give the function numbers directly:\n",
      "You have 20 cheeses!\n",
      "You have 30 boxes of crackers!\n",
      "Man that's enough for a party!\n",
      "Get a blanket.\n",
      "\n",
      "OR, we can use variables from our script:\n",
      "You have 10 cheeses!\n",
      "You have 50 boxes of crackers!\n",
      "Man that's enough for a party!\n",
      "Get a blanket.\n",
      "\n",
      "We can even do math inside too:\n",
      "You have 30 cheeses!\n",
      "You have 11 boxes of crackers!\n",
      "Man that's enough for a party!\n",
      "Get a blanket.\n",
      "\n",
      "And we can combine the two, variables and math:\n",
      "You have 110 cheeses!\n",
      "You have 1050 boxes of crackers!\n",
      "Man that's enough for a party!\n",
      "Get a blanket.\n",
      "\n"
     ]
    }
   ],
   "source": [
    "#ex19\n",
    "def cheese_and_crackers(cheese_count,boxes_of_crackers):\n",
    "    print(f\"You have {cheese_count} cheeses!\")\n",
    "    print(f\"You have {boxes_of_crackers} boxes of crackers!\")\n",
    "    print(\"Man that's enough for a party!\")\n",
    "    print(\"Get a blanket.\\n\")\n",
    "print(\"We can just give the function numbers directly:\")\n",
    "cheese_and_crackers(20,30)\n",
    "\n",
    "print(\"OR, we can use variables from our script:\")\n",
    "amount_of_cheese = 10\n",
    "amount_of_crackers = 50\n",
    "cheese_and_crackers(amount_of_cheese,amount_of_crackers)\n",
    "\n",
    "print(\"We can even do math inside too:\")\n",
    "cheese_and_crackers(10+20,5+6)\n",
    "\n",
    "print(\"And we can combine the two, variables and math:\")\n",
    "cheese_and_crackers(amount_of_cheese+100,amount_of_crackers+1000)"
   ]
  },
  {
   "cell_type": "code",
   "execution_count": 14,
   "metadata": {},
   "outputs": [
    {
     "name": "stdout",
     "output_type": "stream",
     "text": [
      "First let's print the whole file:\n",
      "\n",
      "Oh,yeah, I have already erased my previously file.\n",
      "Sure, that old one should be outdated.\n",
      "I will never regret deleted them\n",
      "Oh,yeah, I have already erased my previously file. \n",
      "Sure, that old one should be outdated. \n",
      "I will never regret deleted them  \n",
      "Now let's rewind, kind of like a tape.\n",
      "Now let's print three lines:\n",
      "1 Oh,yeah, I have already erased my previously file.\n",
      "\n",
      "2 Sure, that old one should be outdated.\n",
      "\n",
      "3 I will never regret deleted them\n",
      "\n"
     ]
    }
   ],
   "source": [
    "#ex20\n",
    "from sys import argv\n",
    "script, input_file = argv,\"editor.txt\"\n",
    "\n",
    "def print_all(f):\n",
    "    print(f.read())\n",
    "def rewind(f):\n",
    "    f.seek(0)\n",
    "def print_a_line(line_count,f):\n",
    "    print(line_count,f.readline())\n",
    "\n",
    "current_file = open(input_file)\n",
    "print(\"First let's print the whole file:\\n\")\n",
    "print_all(current_file)\n",
    "print(\"Now let's rewind, kind of like a tape.\")\n",
    "rewind(current_file)\n",
    "print(\"Now let's print three lines:\")\n",
    "current_line=1\n",
    "print_a_line(current_line,current_file)\n",
    "current_line+=1\n",
    "print_a_line(current_line,current_file)\n",
    "current_line+=1\n",
    "print_a_line(current_line,current_file)\n",
    "\n"
   ]
  },
  {
   "cell_type": "code",
   "execution_count": 2,
   "metadata": {},
   "outputs": [
    {
     "name": "stdout",
     "output_type": "stream",
     "text": [
      "Let's do some math with just functions!\n",
      "ADDING30+5\n",
      "SUBTRACTING78-4\n",
      "MULTIPLYING90*2\n",
      "DIVIDING100/2\n",
      "Age: 35,Height: 74, Weight: 180, IQ:50.0\n",
      "Here is a puzzle.\n",
      "DIVIDING50.0/2\n",
      "MULTIPLYING180*25.0\n",
      "SUBTRACTING74-4500.0\n",
      "ADDING35+-4426.0\n",
      "That becomes:  -4391.0 Can you do it by hand?\n"
     ]
    }
   ],
   "source": [
    "#ex21\n",
    "def add(a,b):\n",
    "    print(f\"ADDING{a}+{b}\")\n",
    "    return a+b\n",
    "\n",
    "def subtract(a,b):\n",
    "    print(f\"SUBTRACTING{a}-{b}\")\n",
    "    return a-b\n",
    "def multiply(a,b):\n",
    "    print(f\"MULTIPLYING{a}*{b}\")\n",
    "    return a*b\n",
    "def divide(a,b):\n",
    "    print(f\"DIVIDING{a}/{b}\")\n",
    "    return a/b\n",
    "print(\"Let's do some math with just functions!\")\n",
    "\n",
    "age = add(30,5)\n",
    "height = subtract(78,4)\n",
    "weight = multiply(90,2)\n",
    "iq = divide(100,2)\n",
    "\n",
    "print(f\"Age: {age},Height: {height}, Weight: {weight}, IQ:{iq}\")\n",
    "#A puzzle for the extra credit,type it in anyway\n",
    "print(\"Here is a puzzle.\")\n",
    "what = add(age,subtract(height,multiply(weight,divide(iq,2))))\n",
    "print(\"That becomes: \",what,\"Can you do it by hand?\")"
   ]
  },
  {
   "cell_type": "code",
   "execution_count": 8,
   "metadata": {},
   "outputs": [
    {
     "name": "stdout",
     "output_type": "stream",
     "text": [
      "b'\\xff\\xfe\\x00\\x00A\\x00\\x00\\x00f\\x00\\x00\\x00r\\x00\\x00\\x00i\\x00\\x00\\x00k\\x00\\x00\\x00a\\x00\\x00\\x00a\\x00\\x00\\x00n\\x00\\x00\\x00s\\x00\\x00\\x00' <==> Afrikaans\n",
      "b'\\xff\\xfe\\x00\\x00\\xa0\\x12\\x00\\x00\\x1b\\x12\\x00\\x00-\\x12\\x00\\x00\\x9b\\x12\\x00\\x00' <==> አማርኛ\n",
      "b'\\xff\\xfe\\x00\\x00\\x10\\x04\\x00\\x00\\xa7\\x04\\x00\\x00A\\x04\\x00\\x00H\\x04\\x00\\x00\\xd9\\x04\\x00\\x000\\x04\\x00\\x00' <==> Аҧсшәа\n",
      "b\"\\xff\\xfe\\x00\\x00'\\x06\\x00\\x00D\\x06\\x00\\x009\\x06\\x00\\x001\\x06\\x00\\x00(\\x06\\x00\\x00J\\x06\\x00\\x00)\\x06\\x00\\x00\" <==> العربية\n",
      "b'\\xff\\xfe\\x00\\x00A\\x00\\x00\\x00r\\x00\\x00\\x00a\\x00\\x00\\x00g\\x00\\x00\\x00o\\x00\\x00\\x00n\\x00\\x00\\x00\\xe9\\x00\\x00\\x00s\\x00\\x00\\x00' <==> Aragonés\n",
      "b'\\xff\\xfe\\x00\\x00A\\x00\\x00\\x00r\\x00\\x00\\x00p\\x00\\x00\\x00e\\x00\\x00\\x00t\\x00\\x00\\x00a\\x00\\x00\\x00n\\x00\\x00\\x00' <==> Arpetan\n",
      "b'\\xff\\xfe\\x00\\x00A\\x00\\x00\\x00z\\x00\\x00\\x00Y\\x02\\x00\\x00r\\x00\\x00\\x00b\\x00\\x00\\x00a\\x00\\x00\\x00y\\x00\\x00\\x00c\\x00\\x00\\x00a\\x00\\x00\\x00n\\x00\\x00\\x00c\\x00\\x00\\x00a\\x00\\x00\\x00' <==> Azərbaycanca\n",
      "b'\\xff\\xfe\\x00\\x00B\\x00\\x00\\x00a\\x00\\x00\\x00m\\x00\\x00\\x00a\\x00\\x00\\x00n\\x00\\x00\\x00a\\x00\\x00\\x00n\\x00\\x00\\x00k\\x00\\x00\\x00a\\x00\\x00\\x00n\\x00\\x00\\x00' <==> Bamanankan\n",
      "b'\\xff\\xfe\\x00\\x00\\xac\\t\\x00\\x00\\xbe\\t\\x00\\x00\\x82\\t\\x00\\x00\\xb2\\t\\x00\\x00\\xbe\\t\\x00\\x00' <==> বাংলা\n",
      "b'\\xff\\xfe\\x00\\x00B\\x00\\x00\\x00\\xe2\\x00\\x00\\x00n\\x00\\x00\\x00-\\x00\\x00\\x00l\\x00\\x00\\x00\\xe2\\x00\\x00\\x00m\\x00\\x00\\x00-\\x00\\x00\\x00g\\x00\\x00\\x00\\xfa\\x00\\x00\\x00' <==> Bân-lâm-gú\n",
      "b'\\xff\\xfe\\x00\\x00\\x11\\x04\\x00\\x005\\x04\\x00\\x00;\\x04\\x00\\x000\\x04\\x00\\x00@\\x04\\x00\\x00C\\x04\\x00\\x00A\\x04\\x00\\x00:\\x04\\x00\\x000\\x04\\x00\\x00O\\x04\\x00\\x00' <==> Беларуская\n",
      "b'\\xff\\xfe\\x00\\x00\\x11\\x04\\x00\\x00J\\x04\\x00\\x00;\\x04\\x00\\x003\\x04\\x00\\x000\\x04\\x00\\x00@\\x04\\x00\\x00A\\x04\\x00\\x00:\\x04\\x00\\x008\\x04\\x00\\x00' <==> Български\n",
      "b'\\xff\\xfe\\x00\\x00B\\x00\\x00\\x00o\\x00\\x00\\x00a\\x00\\x00\\x00r\\x00\\x00\\x00i\\x00\\x00\\x00s\\x00\\x00\\x00c\\x00\\x00\\x00h\\x00\\x00\\x00' <==> Boarisch\n",
      "b'\\xff\\xfe\\x00\\x00B\\x00\\x00\\x00o\\x00\\x00\\x00s\\x00\\x00\\x00a\\x00\\x00\\x00n\\x00\\x00\\x00s\\x00\\x00\\x00k\\x00\\x00\\x00i\\x00\\x00\\x00' <==> Bosanski\n",
      "b'\\xff\\xfe\\x00\\x00\\x11\\x04\\x00\\x00C\\x04\\x00\\x00@\\x04\\x00\\x00O\\x04\\x00\\x000\\x04\\x00\\x004\\x04\\x00\\x00' <==> Буряад\n",
      "b'\\xff\\xfe\\x00\\x00C\\x00\\x00\\x00a\\x00\\x00\\x00t\\x00\\x00\\x00a\\x00\\x00\\x00l\\x00\\x00\\x00\\xe0\\x00\\x00\\x00' <==> Català\n",
      "b\"\\xff\\xfe\\x00\\x00'\\x04\\x00\\x00\\xd1\\x04\\x00\\x002\\x04\\x00\\x000\\x04\\x00\\x00H\\x04\\x00\\x00;\\x04\\x00\\x000\\x04\\x00\\x00\" <==> Чӑвашла\n",
      "b'\\xff\\xfe\\x00\\x00\\x0c\\x01\\x00\\x00e\\x00\\x00\\x00a\\x01\\x00\\x00t\\x00\\x00\\x00i\\x00\\x00\\x00n\\x00\\x00\\x00a\\x00\\x00\\x00' <==> Čeština\n",
      "b'\\xff\\xfe\\x00\\x00C\\x00\\x00\\x00y\\x00\\x00\\x00m\\x00\\x00\\x00r\\x00\\x00\\x00a\\x00\\x00\\x00e\\x00\\x00\\x00g\\x00\\x00\\x00' <==> Cymraeg\n",
      "b'\\xff\\xfe\\x00\\x00D\\x00\\x00\\x00a\\x00\\x00\\x00n\\x00\\x00\\x00s\\x00\\x00\\x00k\\x00\\x00\\x00' <==> Dansk\n",
      "b'\\xff\\xfe\\x00\\x00D\\x00\\x00\\x00e\\x00\\x00\\x00u\\x00\\x00\\x00t\\x00\\x00\\x00s\\x00\\x00\\x00c\\x00\\x00\\x00h\\x00\\x00\\x00' <==> Deutsch\n",
      "b'\\xff\\xfe\\x00\\x00E\\x00\\x00\\x00e\\x00\\x00\\x00s\\x00\\x00\\x00t\\x00\\x00\\x00i\\x00\\x00\\x00' <==> Eesti\n",
      "b'\\xff\\xfe\\x00\\x00\\x95\\x03\\x00\\x00\\xbb\\x03\\x00\\x00\\xbb\\x03\\x00\\x00\\xb7\\x03\\x00\\x00\\xbd\\x03\\x00\\x00\\xb9\\x03\\x00\\x00\\xba\\x03\\x00\\x00\\xac\\x03\\x00\\x00' <==> Ελληνικά\n",
      "b'\\xff\\xfe\\x00\\x00E\\x00\\x00\\x00s\\x00\\x00\\x00p\\x00\\x00\\x00a\\x00\\x00\\x00\\xf1\\x00\\x00\\x00o\\x00\\x00\\x00l\\x00\\x00\\x00' <==> Español\n",
      "b'\\xff\\xfe\\x00\\x00E\\x00\\x00\\x00s\\x00\\x00\\x00p\\x00\\x00\\x00e\\x00\\x00\\x00r\\x00\\x00\\x00a\\x00\\x00\\x00n\\x00\\x00\\x00t\\x00\\x00\\x00o\\x00\\x00\\x00' <==> Esperanto\n",
      "b\"\\xff\\xfe\\x00\\x00A\\x06\\x00\\x00'\\x06\\x00\\x001\\x06\\x00\\x003\\x06\\x00\\x00\\xcc\\x06\\x00\\x00\" <==> فارسی\n",
      "b'\\xff\\xfe\\x00\\x00F\\x00\\x00\\x00r\\x00\\x00\\x00a\\x00\\x00\\x00n\\x00\\x00\\x00\\xe7\\x00\\x00\\x00a\\x00\\x00\\x00i\\x00\\x00\\x00s\\x00\\x00\\x00' <==> Français\n",
      "b'\\xff\\xfe\\x00\\x00F\\x00\\x00\\x00r\\x00\\x00\\x00y\\x00\\x00\\x00s\\x00\\x00\\x00k\\x00\\x00\\x00' <==> Frysk\n",
      "b'\\xff\\xfe\\x00\\x00G\\x00\\x00\\x00a\\x00\\x00\\x00e\\x00\\x00\\x00l\\x00\\x00\\x00g\\x00\\x00\\x00' <==> Gaelg\n",
      "b'\\xff\\xfe\\x00\\x00G\\x00\\x00\\x00\\xe0\\x00\\x00\\x00i\\x00\\x00\\x00d\\x00\\x00\\x00h\\x00\\x00\\x00l\\x00\\x00\\x00i\\x00\\x00\\x00g\\x00\\x00\\x00' <==> Gàidhlig\n",
      "b'\\xff\\xfe\\x00\\x00G\\x00\\x00\\x00a\\x00\\x00\\x00l\\x00\\x00\\x00e\\x00\\x00\\x00g\\x00\\x00\\x00o\\x00\\x00\\x00' <==> Galego\n",
      "b'\\xff\\xfe\\x00\\x00\\\\\\xd5\\x00\\x00m\\xad\\x00\\x00\\xb4\\xc5\\x00\\x00' <==> 한국어\n",
      "b'\\xff\\xfe\\x00\\x00@\\x05\\x00\\x00a\\x05\\x00\\x00u\\x05\\x00\\x00e\\x05\\x00\\x00\\x80\\x05\\x00\\x00e\\x05\\x00\\x00v\\x05\\x00\\x00' <==> Հայերեն\n",
      "b'\\xff\\xfe\\x00\\x009\\t\\x00\\x00?\\t\\x00\\x00(\\t\\x00\\x00M\\t\\x00\\x00&\\t\\x00\\x00@\\t\\x00\\x00' <==> हिन्दी\n",
      "b'\\xff\\xfe\\x00\\x00H\\x00\\x00\\x00r\\x00\\x00\\x00v\\x00\\x00\\x00a\\x00\\x00\\x00t\\x00\\x00\\x00s\\x00\\x00\\x00k\\x00\\x00\\x00i\\x00\\x00\\x00' <==> Hrvatski\n",
      "b'\\xff\\xfe\\x00\\x00I\\x00\\x00\\x00d\\x00\\x00\\x00o\\x00\\x00\\x00' <==> Ido\n",
      "b'\\xff\\xfe\\x00\\x00I\\x00\\x00\\x00n\\x00\\x00\\x00t\\x00\\x00\\x00e\\x00\\x00\\x00r\\x00\\x00\\x00l\\x00\\x00\\x00i\\x00\\x00\\x00n\\x00\\x00\\x00g\\x00\\x00\\x00u\\x00\\x00\\x00a\\x00\\x00\\x00' <==> Interlingua\n",
      "b'\\xff\\xfe\\x00\\x00I\\x00\\x00\\x00t\\x00\\x00\\x00a\\x00\\x00\\x00l\\x00\\x00\\x00i\\x00\\x00\\x00a\\x00\\x00\\x00n\\x00\\x00\\x00o\\x00\\x00\\x00' <==> Italiano\n",
      "b'\\xff\\xfe\\x00\\x00\\xe2\\x05\\x00\\x00\\xd1\\x05\\x00\\x00\\xe8\\x05\\x00\\x00\\xd9\\x05\\x00\\x00\\xea\\x05\\x00\\x00' <==> עברית\n",
      "b'\\xff\\xfe\\x00\\x00\\x95\\x0c\\x00\\x00\\xa8\\x0c\\x00\\x00\\xcd\\x0c\\x00\\x00\\xa8\\x0c\\x00\\x00\\xa1\\x0c\\x00\\x00' <==> ಕನ್ನಡ\n",
      "b'\\xff\\xfe\\x00\\x00K\\x00\\x00\\x00a\\x00\\x00\\x00p\\x00\\x00\\x00a\\x00\\x00\\x00m\\x00\\x00\\x00p\\x00\\x00\\x00a\\x00\\x00\\x00n\\x00\\x00\\x00g\\x00\\x00\\x00a\\x00\\x00\\x00n\\x00\\x00\\x00' <==> Kapampangan\n",
      "b'\\xff\\xfe\\x00\\x00\\xe5\\x10\\x00\\x00\\xd0\\x10\\x00\\x00\\xe0\\x10\\x00\\x00\\xd7\\x10\\x00\\x00\\xe3\\x10\\x00\\x00\\xda\\x10\\x00\\x00\\xd8\\x10\\x00\\x00' <==> ქართული\n",
      "b'\\xff\\xfe\\x00\\x00\\x9a\\x04\\x00\\x000\\x04\\x00\\x007\\x04\\x00\\x000\\x04\\x00\\x00\\x9b\\x04\\x00\\x00H\\x04\\x00\\x000\\x04\\x00\\x00' <==> Қазақша\n",
      "b'\\xff\\xfe\\x00\\x00K\\x00\\x00\\x00r\\x00\\x00\\x00e\\x00\\x00\\x00y\\x00\\x00\\x00\\xf2\\x00\\x00\\x00l\\x00\\x00\\x00 \\x00\\x00\\x00a\\x00\\x00\\x00y\\x00\\x00\\x00i\\x00\\x00\\x00s\\x00\\x00\\x00y\\x00\\x00\\x00e\\x00\\x00\\x00n\\x00\\x00\\x00' <==> Kreyòl ayisyen\n",
      "b'\\xff\\xfe\\x00\\x00L\\x00\\x00\\x00a\\x00\\x00\\x00t\\x00\\x00\\x00g\\x00\\x00\\x00a\\x00\\x00\\x00<\\x01\\x00\\x00u\\x00\\x00\\x00' <==> Latgaļu\n",
      "b'\\xff\\xfe\\x00\\x00L\\x00\\x00\\x00a\\x00\\x00\\x00t\\x00\\x00\\x00i\\x00\\x00\\x00n\\x00\\x00\\x00a\\x00\\x00\\x00' <==> Latina\n",
      "b'\\xff\\xfe\\x00\\x00L\\x00\\x00\\x00a\\x00\\x00\\x00t\\x00\\x00\\x00v\\x00\\x00\\x00i\\x00\\x00\\x00e\\x00\\x00\\x00a\\x01\\x00\\x00u\\x00\\x00\\x00' <==> Latviešu\n",
      "b'\\xff\\xfe\\x00\\x00L\\x00\\x00\\x00\\xeb\\x00\\x00\\x00t\\x00\\x00\\x00z\\x00\\x00\\x00e\\x00\\x00\\x00b\\x00\\x00\\x00u\\x00\\x00\\x00e\\x00\\x00\\x00r\\x00\\x00\\x00g\\x00\\x00\\x00e\\x00\\x00\\x00s\\x00\\x00\\x00c\\x00\\x00\\x00h\\x00\\x00\\x00' <==> Lëtzebuergesch\n",
      "b'\\xff\\xfe\\x00\\x00L\\x00\\x00\\x00i\\x00\\x00\\x00e\\x00\\x00\\x00t\\x00\\x00\\x00u\\x00\\x00\\x00v\\x00\\x00\\x00i\\x00\\x00\\x00s\\x01\\x00\\x00' <==> Lietuvių\n",
      "b'\\xff\\xfe\\x00\\x00M\\x00\\x00\\x00a\\x00\\x00\\x00g\\x00\\x00\\x00y\\x00\\x00\\x00a\\x00\\x00\\x00r\\x00\\x00\\x00' <==> Magyar\n",
      "b'\\xff\\xfe\\x00\\x00\\x1c\\x04\\x00\\x000\\x04\\x00\\x00:\\x04\\x00\\x005\\x04\\x00\\x004\\x04\\x00\\x00>\\x04\\x00\\x00=\\x04\\x00\\x00A\\x04\\x00\\x00:\\x04\\x00\\x008\\x04\\x00\\x00' <==> Македонски\n",
      "b'\\xff\\xfe\\x00\\x00M\\x00\\x00\\x00a\\x00\\x00\\x00l\\x00\\x00\\x00t\\x00\\x00\\x00i\\x00\\x00\\x00' <==> Malti\n",
      "b'\\xff\\xfe\\x00\\x00.\\t\\x00\\x000\\t\\x00\\x00>\\t\\x00\\x00 \\t\\x00\\x00@\\t\\x00\\x00' <==> मराठी\n",
      "b'\\xff\\xfe\\x00\\x00\\xdb\\x10\\x00\\x00\\xd0\\x10\\x00\\x00\\xe0\\x10\\x00\\x00\\xd2\\x10\\x00\\x00\\xd0\\x10\\x00\\x00\\xda\\x10\\x00\\x00\\xe3\\x10\\x00\\x00\\xe0\\x10\\x00\\x00\\xd8\\x10\\x00\\x00' <==> მარგალური\n",
      "b\"\\xff\\xfe\\x00\\x00E\\x06\\x00\\x00'\\x06\\x00\\x002\\x06\\x00\\x00P\\x06\\x00\\x001\\x06\\x00\\x00H\\x06\\x00\\x00F\\x06\\x00\\x00\\xcc\\x06\\x00\\x00\" <==> مازِرونی\n",
      "b'\\xff\\xfe\\x00\\x00B\\x00\\x00\\x00a\\x00\\x00\\x00h\\x00\\x00\\x00a\\x00\\x00\\x00s\\x00\\x00\\x00a\\x00\\x00\\x00 \\x00\\x00\\x00M\\x00\\x00\\x00e\\x00\\x00\\x00l\\x00\\x00\\x00a\\x00\\x00\\x00y\\x00\\x00\\x00u\\x00\\x00\\x00' <==> Bahasa Melayu\n",
      "b'\\xff\\xfe\\x00\\x00\\x1c\\x04\\x00\\x00>\\x04\\x00\\x00=\\x04\\x00\\x003\\x04\\x00\\x00>\\x04\\x00\\x00;\\x04\\x00\\x00' <==> Монгол\n",
      "b'\\xff\\xfe\\x00\\x00N\\x00\\x00\\x00e\\x00\\x00\\x00d\\x00\\x00\\x00e\\x00\\x00\\x00r\\x00\\x00\\x00l\\x00\\x00\\x00a\\x00\\x00\\x00n\\x00\\x00\\x00d\\x00\\x00\\x00s\\x00\\x00\\x00' <==> Nederlands\n",
      "b'\\xff\\xfe\\x00\\x00(\\t\\x00\\x00G\\t\\x00\\x00*\\t\\x00\\x00>\\t\\x00\\x002\\t\\x00\\x00 \\x00\\x00\\x00-\\t\\x00\\x00>\\t\\x00\\x007\\t\\x00\\x00>\\t\\x00\\x00' <==> नेपाल भाषा\n",
      "b'\\xff\\xfe\\x00\\x00\\xe5e\\x00\\x00,g\\x00\\x00\\x9e\\x8a\\x00\\x00' <==> 日本語\n",
      "b'\\xff\\xfe\\x00\\x00N\\x00\\x00\\x00o\\x00\\x00\\x00r\\x00\\x00\\x00s\\x00\\x00\\x00k\\x00\\x00\\x00 \\x00\\x00\\x00b\\x00\\x00\\x00o\\x00\\x00\\x00k\\x00\\x00\\x00m\\x00\\x00\\x00\\xe5\\x00\\x00\\x00l\\x00\\x00\\x00' <==> Norsk bokmål\n",
      "b'\\xff\\xfe\\x00\\x00N\\x00\\x00\\x00o\\x00\\x00\\x00u\\x00\\x00\\x00o\\x00\\x00\\x00r\\x00\\x00\\x00m\\x00\\x00\\x00a\\x00\\x00\\x00n\\x00\\x00\\x00d\\x00\\x00\\x00' <==> Nouormand\n",
      "b'\\xff\\xfe\\x00\\x00O\\x00\\x00\\x00c\\x00\\x00\\x00c\\x00\\x00\\x00i\\x00\\x00\\x00t\\x00\\x00\\x00a\\x00\\x00\\x00n\\x00\\x00\\x00' <==> Occitan\n",
      "b'\\xff\\xfe\\x00\\x00O\\x00\\x00\\x00\\xbb\\x02\\x00\\x00z\\x00\\x00\\x00b\\x00\\x00\\x00e\\x00\\x00\\x00k\\x00\\x00\\x00c\\x00\\x00\\x00h\\x00\\x00\\x00a\\x00\\x00\\x00/\\x00\\x00\\x00^\\x04\\x00\\x007\\x04\\x00\\x001\\x04\\x00\\x005\\x04\\x00\\x00:\\x04\\x00\\x00G\\x04\\x00\\x000\\x04\\x00\\x00' <==> Oʻzbekcha/ўзбекча\n",
      "b'\\xff\\xfe\\x00\\x00*\\n\\x00\\x00p\\n\\x00\\x00\\x1c\\n\\x00\\x00>\\n\\x00\\x00,\\n\\x00\\x00@\\n\\x00\\x00' <==> ਪੰਜਾਬੀ\n",
      "b\"\\xff\\xfe\\x00\\x00~\\x06\\x00\\x00F\\x06\\x00\\x00,\\x06\\x00\\x00'\\x06\\x00\\x00(\\x06\\x00\\x00\\xcc\\x06\\x00\\x00\" <==> پنجابی\n",
      "b'\\xff\\xfe\\x00\\x00~\\x06\\x00\\x00\\x9a\\x06\\x00\\x00*\\x06\\x00\\x00H\\x06\\x00\\x00' <==> پښتو\n",
      "b'\\xff\\xfe\\x00\\x00P\\x00\\x00\\x00l\\x00\\x00\\x00a\\x00\\x00\\x00t\\x00\\x00\\x00t\\x00\\x00\\x00d\\x00\\x00\\x00\\xfc\\x00\\x00\\x00\\xfc\\x00\\x00\\x00t\\x00\\x00\\x00s\\x00\\x00\\x00c\\x00\\x00\\x00h\\x00\\x00\\x00' <==> Plattdüütsch\n",
      "b'\\xff\\xfe\\x00\\x00P\\x00\\x00\\x00o\\x00\\x00\\x00l\\x00\\x00\\x00s\\x00\\x00\\x00k\\x00\\x00\\x00i\\x00\\x00\\x00' <==> Polski\n",
      "b'\\xff\\xfe\\x00\\x00P\\x00\\x00\\x00o\\x00\\x00\\x00r\\x00\\x00\\x00t\\x00\\x00\\x00u\\x00\\x00\\x00g\\x00\\x00\\x00u\\x00\\x00\\x00\\xea\\x00\\x00\\x00s\\x00\\x00\\x00' <==> Português\n",
      "b'\\xff\\xfe\\x00\\x00R\\x00\\x00\\x00o\\x00\\x00\\x00m\\x00\\x00\\x00\\xe2\\x00\\x00\\x00n\\x00\\x00\\x00\\x03\\x01\\x00\\x00' <==> Română\n",
      "b'\\xff\\xfe\\x00\\x00R\\x00\\x00\\x00o\\x00\\x00\\x00m\\x00\\x00\\x00a\\x00\\x00\\x00n\\x00\\x00\\x00i\\x00\\x00\\x00' <==> Romani\n",
      "b'\\xff\\xfe\\x00\\x00 \\x04\\x00\\x00C\\x04\\x00\\x00A\\x04\\x00\\x00A\\x04\\x00\\x00:\\x04\\x00\\x008\\x04\\x00\\x009\\x04\\x00\\x00' <==> Русский\n",
      "b'\\xff\\xfe\\x00\\x00S\\x00\\x00\\x00e\\x00\\x00\\x00e\\x00\\x00\\x00l\\x00\\x00\\x00t\\x00\\x00\\x00e\\x00\\x00\\x00r\\x00\\x00\\x00s\\x00\\x00\\x00k\\x00\\x00\\x00' <==> Seeltersk\n",
      "b'\\xff\\xfe\\x00\\x00S\\x00\\x00\\x00h\\x00\\x00\\x00q\\x00\\x00\\x00i\\x00\\x00\\x00p\\x00\\x00\\x00' <==> Shqip\n",
      "b'\\xff\\xfe\\x00\\x00S\\x00\\x00\\x00i\\x00\\x00\\x00m\\x00\\x00\\x00p\\x00\\x00\\x00l\\x00\\x00\\x00e\\x00\\x00\\x00 \\x00\\x00\\x00E\\x00\\x00\\x00n\\x00\\x00\\x00g\\x00\\x00\\x00l\\x00\\x00\\x00i\\x00\\x00\\x00s\\x00\\x00\\x00h\\x00\\x00\\x00' <==> Simple English\n",
      "b'\\xff\\xfe\\x00\\x00S\\x00\\x00\\x00l\\x00\\x00\\x00o\\x00\\x00\\x00v\\x00\\x00\\x00e\\x00\\x00\\x00n\\x00\\x00\\x00\\r\\x01\\x00\\x00i\\x00\\x00\\x00n\\x00\\x00\\x00a\\x00\\x00\\x00' <==> Slovenčina\n",
      "b\"\\xff\\xfe\\x00\\x00\\xa9\\x06\\x00\\x00H\\x06\\x00\\x001\\x06\\x00\\x00/\\x06\\x00\\x00\\xcc\\x06\\x00\\x00\\xcc\\x06\\x00\\x00 \\x00\\x00\\x00F\\x06\\x00\\x00'\\x06\\x00\\x00H\\x06\\x00\\x00\\xd5\\x06\\x00\\x00F\\x06\\x00\\x00/\\x06\\x00\\x00\\xcc\\x06\\x00\\x00\" <==> کوردیی ناوەندی\n",
      "b'\\xff\\xfe\\x00\\x00!\\x04\\x00\\x00@\\x04\\x00\\x00?\\x04\\x00\\x00A\\x04\\x00\\x00:\\x04\\x00\\x008\\x04\\x00\\x00 \\x00\\x00\\x00/\\x00\\x00\\x00 \\x00\\x00\\x00s\\x00\\x00\\x00r\\x00\\x00\\x00p\\x00\\x00\\x00s\\x00\\x00\\x00k\\x00\\x00\\x00i\\x00\\x00\\x00' <==> Српски / srpski\n",
      "b'\\xff\\xfe\\x00\\x00S\\x00\\x00\\x00u\\x00\\x00\\x00o\\x00\\x00\\x00m\\x00\\x00\\x00i\\x00\\x00\\x00' <==> Suomi\n",
      "b'\\xff\\xfe\\x00\\x00S\\x00\\x00\\x00v\\x00\\x00\\x00e\\x00\\x00\\x00n\\x00\\x00\\x00s\\x00\\x00\\x00k\\x00\\x00\\x00a\\x00\\x00\\x00' <==> Svenska\n",
      "b'\\xff\\xfe\\x00\\x00T\\x00\\x00\\x00a\\x00\\x00\\x00g\\x00\\x00\\x00a\\x00\\x00\\x00l\\x00\\x00\\x00o\\x00\\x00\\x00g\\x00\\x00\\x00' <==> Tagalog\n",
      "b'\\xff\\xfe\\x00\\x00\\xa4\\x0b\\x00\\x00\\xae\\x0b\\x00\\x00\\xbf\\x0b\\x00\\x00\\xb4\\x0b\\x00\\x00\\xcd\\x0b\\x00\\x00' <==> தமிழ்\n",
      "b'\\xff\\xfe\\x00\\x00 \\x0e\\x00\\x002\\x0e\\x00\\x00)\\x0e\\x00\\x002\\x0e\\x00\\x00D\\x0e\\x00\\x00\\x17\\x0e\\x00\\x00\"\\x0e\\x00\\x00' <==> ภาษาไทย\n",
      "b'\\xff\\xfe\\x00\\x00T\\x00\\x00\\x00a\\x00\\x00\\x00q\\x00\\x00\\x00b\\x00\\x00\\x00a\\x00\\x00\\x00y\\x00\\x00\\x00l\\x00\\x00\\x00i\\x00\\x00\\x00t\\x00\\x00\\x00' <==> Taqbaylit\n",
      "b'\\xff\\xfe\\x00\\x00\"\\x04\\x00\\x000\\x04\\x00\\x00B\\x04\\x00\\x000\\x04\\x00\\x00@\\x04\\x00\\x00G\\x04\\x00\\x000\\x04\\x00\\x00/\\x00\\x00\\x00t\\x00\\x00\\x00a\\x00\\x00\\x00t\\x00\\x00\\x00a\\x00\\x00\\x00r\\x00\\x00\\x00\\xe7\\x00\\x00\\x00a\\x00\\x00\\x00' <==> Татарча/tatarça\n",
      "b'\\xff\\xfe\\x00\\x00$\\x0c\\x00\\x00F\\x0c\\x00\\x002\\x0c\\x00\\x00A\\x0c\\x00\\x00\\x17\\x0c\\x00\\x00A\\x0c\\x00\\x00' <==> తెలుగు\n",
      "b'\\xff\\xfe\\x00\\x00\"\\x04\\x00\\x00>\\x04\\x00\\x00\\xb7\\x04\\x00\\x008\\x04\\x00\\x00:\\x04\\x00\\x00\\xe3\\x04\\x00\\x00' <==> Тоҷикӣ\n",
      "b'\\xff\\xfe\\x00\\x00T\\x00\\x00\\x00\\xfc\\x00\\x00\\x00r\\x00\\x00\\x00k\\x00\\x00\\x00\\xe7\\x00\\x00\\x00e\\x00\\x00\\x00' <==> Türkçe\n",
      "b'\\xff\\xfe\\x00\\x00#\\x04\\x00\\x00:\\x04\\x00\\x00@\\x04\\x00\\x000\\x04\\x00\\x00W\\x04\\x00\\x00=\\x04\\x00\\x00A\\x04\\x00\\x00L\\x04\\x00\\x00:\\x04\\x00\\x000\\x04\\x00\\x00' <==> Українська\n",
      "b\"\\xff\\xfe\\x00\\x00'\\x06\\x00\\x001\\x06\\x00\\x00/\\x06\\x00\\x00H\\x06\\x00\\x00\" <==> اردو\n",
      "b'\\xff\\xfe\\x00\\x00T\\x00\\x00\\x00i\\x00\\x00\\x00\\xbf\\x1e\\x00\\x00n\\x00\\x00\\x00g\\x00\\x00\\x00 \\x00\\x00\\x00V\\x00\\x00\\x00i\\x00\\x00\\x00\\xc7\\x1e\\x00\\x00t\\x00\\x00\\x00' <==> Tiếng Việt\n",
      "b'\\xff\\xfe\\x00\\x00V\\x00\\x00\\x00\\xf5\\x00\\x00\\x00r\\x00\\x00\\x00o\\x00\\x00\\x00' <==> Võro\n",
      "b'\\xff\\xfe\\x00\\x00\\x87e\\x00\\x00\\x00\\x8a\\x00\\x00' <==> 文言\n",
      "b'\\xff\\xfe\\x00\\x004T\\x00\\x00\\xed\\x8b\\x00\\x00' <==> 吴语\n",
      "b'\\xff\\xfe\\x00\\x00\\xd9\\x05\\x00\\x00\\xd9\\x05\\x00\\x00\\xb4\\x05\\x00\\x00\\xd3\\x05\\x00\\x00\\xd9\\x05\\x00\\x00\\xe9\\x05\\x00\\x00' <==> ייִדיש\n",
      "b'\\xff\\xfe\\x00\\x00-N\\x00\\x00\\x87e\\x00\\x00' <==> 中文\n"
     ]
    }
   ],
   "source": [
    "#ex23\n",
    "import sys\n",
    "script,encoding,error = sys.argv, \"utf-32\", \"strict\"\n",
    "\n",
    "def main(language_file,encoding,errors):\n",
    "    line = language_file.readline()\n",
    "    if line:\n",
    "        print_line(line,encoding,errors)\n",
    "        return main(language_file,encoding,errors)\n",
    "def print_line(line,encoding,errors):\n",
    "    next_lang = line.strip()    \n",
    "    raw_bytes = next_lang.encode(encoding,errors=errors)\n",
    "#     raw_bytes = line.encode(encoding,errors=errors)\n",
    "    cooked_string = raw_bytes.decode(encoding,errors=errors)\n",
    "    print(raw_bytes,\"<==>\",cooked_string)\n",
    "languages = open(\"language.txt\",encoding=\"utf-8\")\n",
    "main(languages,encoding,error)\n",
    "    \n",
    "    \n",
    "    \n",
    "    "
   ]
  },
  {
   "cell_type": "code",
   "execution_count": 3,
   "metadata": {},
   "outputs": [
    {
     "data": {
      "text/plain": [
       "(90, 90, 'Z')"
      ]
     },
     "execution_count": 3,
     "metadata": {},
     "output_type": "execute_result"
    }
   ],
   "source": [
    "0b1011010,ord('Z'),chr(90)"
   ]
  },
  {
   "cell_type": "code",
   "execution_count": 2,
   "metadata": {},
   "outputs": [
    {
     "ename": "TypeError",
     "evalue": "'builtin_function_or_method' object is not subscriptable",
     "output_type": "error",
     "traceback": [
      "\u001b[0;31m---------------------------------------------------------------------------\u001b[0m",
      "\u001b[0;31mTypeError\u001b[0m                                 Traceback (most recent call last)",
      "\u001b[0;32m<ipython-input-2-dfeb22de5100>\u001b[0m in \u001b[0;36m<module>\u001b[0;34m\u001b[0m\n\u001b[0;32m----> 1\u001b[0;31m \u001b[0mchr\u001b[0m\u001b[0;34m[\u001b[0m\u001b[0;36m90\u001b[0m\u001b[0;34m,\u001b[0m\u001b[0;36m101\u001b[0m\u001b[0;34m,\u001b[0m\u001b[0;36m100\u001b[0m\u001b[0;34m,\u001b[0m\u001b[0;36m32\u001b[0m\u001b[0;34m,\u001b[0m\u001b[0;36m65\u001b[0m\u001b[0;34m,\u001b[0m\u001b[0;36m46\u001b[0m\u001b[0;34m,\u001b[0m\u001b[0;36m32\u001b[0m\u001b[0;34m,\u001b[0m\u001b[0;36m83\u001b[0m\u001b[0;34m,\u001b[0m\u001b[0;36m104\u001b[0m\u001b[0;34m,\u001b[0m\u001b[0;36m97\u001b[0m\u001b[0;34m,\u001b[0m\u001b[0;36m119\u001b[0m\u001b[0;34m]\u001b[0m\u001b[0;34m\u001b[0m\u001b[0;34m\u001b[0m\u001b[0m\n\u001b[0m",
      "\u001b[0;31mTypeError\u001b[0m: 'builtin_function_or_method' object is not subscriptable"
     ]
    }
   ],
   "source": [
    "chr[90,101,100,32,65,46,32,83,104,97,119]"
   ]
  },
  {
   "cell_type": "code",
   "execution_count": 1,
   "metadata": {},
   "outputs": [],
   "source": [
    "raw_bytes = b'\\xe6\\x96\\x87\\xe8\\xa8\\x80'\n",
    "utf_string = \"文言\""
   ]
  },
  {
   "cell_type": "code",
   "execution_count": 6,
   "metadata": {},
   "outputs": [
    {
     "data": {
      "text/plain": [
       "'文言'"
      ]
     },
     "execution_count": 6,
     "metadata": {},
     "output_type": "execute_result"
    }
   ],
   "source": [
    "raw_bytes.decode()"
   ]
  },
  {
   "cell_type": "code",
   "execution_count": 8,
   "metadata": {},
   "outputs": [
    {
     "data": {
      "text/plain": [
       "b'\\xe6\\x96\\x87\\xe8\\xa8\\x80'"
      ]
     },
     "execution_count": 8,
     "metadata": {},
     "output_type": "execute_result"
    }
   ],
   "source": [
    "utf_string.encode()"
   ]
  },
  {
   "cell_type": "code",
   "execution_count": 9,
   "metadata": {},
   "outputs": [
    {
     "data": {
      "text/plain": [
       "True"
      ]
     },
     "execution_count": 9,
     "metadata": {},
     "output_type": "execute_result"
    }
   ],
   "source": [
    "raw_bytes==utf_string.encode()"
   ]
  },
  {
   "cell_type": "code",
   "execution_count": 10,
   "metadata": {},
   "outputs": [
    {
     "data": {
      "text/plain": [
       "True"
      ]
     },
     "execution_count": 10,
     "metadata": {},
     "output_type": "execute_result"
    }
   ],
   "source": [
    "utf_string==raw_bytes.decode()"
   ]
  },
  {
   "cell_type": "code",
   "execution_count": 3,
   "metadata": {},
   "outputs": [
    {
     "data": {
      "text/plain": [
       "('文言', b'\\xe6\\x96\\x87\\xe8\\xa8\\x80')"
      ]
     },
     "execution_count": 3,
     "metadata": {},
     "output_type": "execute_result"
    }
   ],
   "source": [
    "utf_string.strip(),raw_bytes.strip()"
   ]
  },
  {
   "cell_type": "code",
   "execution_count": 15,
   "metadata": {},
   "outputs": [
    {
     "name": "stdout",
     "output_type": "stream",
     "text": [
      "b'Afrikaans' <==> Afrikaans\n",
      "b'\\xe1\\x8a\\xa0\\xe1\\x88\\x9b\\xe1\\x88\\xad\\xe1\\x8a\\x9b' <==> አማርኛ\n",
      "b'\\xd0\\x90\\xd2\\xa7\\xd1\\x81\\xd1\\x88\\xd3\\x99\\xd0\\xb0' <==> Аҧсшәа\n",
      "b'\\xd8\\xa7\\xd9\\x84\\xd8\\xb9\\xd8\\xb1\\xd8\\xa8\\xd9\\x8a\\xd8\\xa9' <==> العربية\n",
      "b'Aragon\\xc3\\xa9s' <==> Aragonés\n",
      "b'Arpetan' <==> Arpetan\n",
      "b'Az\\xc9\\x99rbaycanca' <==> Azərbaycanca\n",
      "b'Bamanankan' <==> Bamanankan\n",
      "b'\\xe0\\xa6\\xac\\xe0\\xa6\\xbe\\xe0\\xa6\\x82\\xe0\\xa6\\xb2\\xe0\\xa6\\xbe' <==> বাংলা\n",
      "b'B\\xc3\\xa2n-l\\xc3\\xa2m-g\\xc3\\xba' <==> Bân-lâm-gú\n",
      "b'\\xd0\\x91\\xd0\\xb5\\xd0\\xbb\\xd0\\xb0\\xd1\\x80\\xd1\\x83\\xd1\\x81\\xd0\\xba\\xd0\\xb0\\xd1\\x8f' <==> Беларуская\n",
      "b'\\xd0\\x91\\xd1\\x8a\\xd0\\xbb\\xd0\\xb3\\xd0\\xb0\\xd1\\x80\\xd1\\x81\\xd0\\xba\\xd0\\xb8' <==> Български\n",
      "b'Boarisch' <==> Boarisch\n",
      "b'Bosanski' <==> Bosanski\n",
      "b'\\xd0\\x91\\xd1\\x83\\xd1\\x80\\xd1\\x8f\\xd0\\xb0\\xd0\\xb4' <==> Буряад\n",
      "b'Catal\\xc3\\xa0' <==> Català\n",
      "b'\\xd0\\xa7\\xd3\\x91\\xd0\\xb2\\xd0\\xb0\\xd1\\x88\\xd0\\xbb\\xd0\\xb0' <==> Чӑвашла\n",
      "b'\\xc4\\x8ce\\xc5\\xa1tina' <==> Čeština\n",
      "b'Cymraeg' <==> Cymraeg\n",
      "b'Dansk' <==> Dansk\n",
      "b'Deutsch' <==> Deutsch\n",
      "b'Eesti' <==> Eesti\n",
      "b'\\xce\\x95\\xce\\xbb\\xce\\xbb\\xce\\xb7\\xce\\xbd\\xce\\xb9\\xce\\xba\\xce\\xac' <==> Ελληνικά\n",
      "b'Espa\\xc3\\xb1ol' <==> Español\n",
      "b'Esperanto' <==> Esperanto\n",
      "b'\\xd9\\x81\\xd8\\xa7\\xd8\\xb1\\xd8\\xb3\\xdb\\x8c' <==> فارسی\n",
      "b'Fran\\xc3\\xa7ais' <==> Français\n",
      "b'Frysk' <==> Frysk\n",
      "b'Gaelg' <==> Gaelg\n",
      "b'G\\xc3\\xa0idhlig' <==> Gàidhlig\n",
      "b'Galego' <==> Galego\n",
      "b'\\xed\\x95\\x9c\\xea\\xb5\\xad\\xec\\x96\\xb4' <==> 한국어\n",
      "b'\\xd5\\x80\\xd5\\xa1\\xd5\\xb5\\xd5\\xa5\\xd6\\x80\\xd5\\xa5\\xd5\\xb6' <==> Հայերեն\n",
      "b'\\xe0\\xa4\\xb9\\xe0\\xa4\\xbf\\xe0\\xa4\\xa8\\xe0\\xa5\\x8d\\xe0\\xa4\\xa6\\xe0\\xa5\\x80' <==> हिन्दी\n",
      "b'Hrvatski' <==> Hrvatski\n",
      "b'Ido' <==> Ido\n",
      "b'Interlingua' <==> Interlingua\n",
      "b'Italiano' <==> Italiano\n",
      "b'\\xd7\\xa2\\xd7\\x91\\xd7\\xa8\\xd7\\x99\\xd7\\xaa' <==> עברית\n",
      "b'\\xe0\\xb2\\x95\\xe0\\xb2\\xa8\\xe0\\xb3\\x8d\\xe0\\xb2\\xa8\\xe0\\xb2\\xa1' <==> ಕನ್ನಡ\n",
      "b'Kapampangan' <==> Kapampangan\n",
      "b'\\xe1\\x83\\xa5\\xe1\\x83\\x90\\xe1\\x83\\xa0\\xe1\\x83\\x97\\xe1\\x83\\xa3\\xe1\\x83\\x9a\\xe1\\x83\\x98' <==> ქართული\n",
      "b'\\xd2\\x9a\\xd0\\xb0\\xd0\\xb7\\xd0\\xb0\\xd2\\x9b\\xd1\\x88\\xd0\\xb0' <==> Қазақша\n",
      "b'Krey\\xc3\\xb2l ayisyen' <==> Kreyòl ayisyen\n",
      "b'Latga\\xc4\\xbcu' <==> Latgaļu\n",
      "b'Latina' <==> Latina\n",
      "b'Latvie\\xc5\\xa1u' <==> Latviešu\n",
      "b'L\\xc3\\xabtzebuergesch' <==> Lëtzebuergesch\n",
      "b'Lietuvi\\xc5\\xb3' <==> Lietuvių\n",
      "b'Magyar' <==> Magyar\n",
      "b'\\xd0\\x9c\\xd0\\xb0\\xd0\\xba\\xd0\\xb5\\xd0\\xb4\\xd0\\xbe\\xd0\\xbd\\xd1\\x81\\xd0\\xba\\xd0\\xb8' <==> Македонски\n",
      "b'Malti' <==> Malti\n",
      "b'\\xe0\\xa4\\xae\\xe0\\xa4\\xb0\\xe0\\xa4\\xbe\\xe0\\xa4\\xa0\\xe0\\xa5\\x80' <==> मराठी\n",
      "b'\\xe1\\x83\\x9b\\xe1\\x83\\x90\\xe1\\x83\\xa0\\xe1\\x83\\x92\\xe1\\x83\\x90\\xe1\\x83\\x9a\\xe1\\x83\\xa3\\xe1\\x83\\xa0\\xe1\\x83\\x98' <==> მარგალური\n",
      "b'\\xd9\\x85\\xd8\\xa7\\xd8\\xb2\\xd9\\x90\\xd8\\xb1\\xd9\\x88\\xd9\\x86\\xdb\\x8c' <==> مازِرونی\n",
      "b'Bahasa Melayu' <==> Bahasa Melayu\n",
      "b'\\xd0\\x9c\\xd0\\xbe\\xd0\\xbd\\xd0\\xb3\\xd0\\xbe\\xd0\\xbb' <==> Монгол\n",
      "b'Nederlands' <==> Nederlands\n",
      "b'\\xe0\\xa4\\xa8\\xe0\\xa5\\x87\\xe0\\xa4\\xaa\\xe0\\xa4\\xbe\\xe0\\xa4\\xb2 \\xe0\\xa4\\xad\\xe0\\xa4\\xbe\\xe0\\xa4\\xb7\\xe0\\xa4\\xbe' <==> नेपाल भाषा\n",
      "b'\\xe6\\x97\\xa5\\xe6\\x9c\\xac\\xe8\\xaa\\x9e' <==> 日本語\n",
      "b'Norsk bokm\\xc3\\xa5l' <==> Norsk bokmål\n",
      "b'Nouormand' <==> Nouormand\n",
      "b'Occitan' <==> Occitan\n",
      "b'O\\xca\\xbbzbekcha/\\xd1\\x9e\\xd0\\xb7\\xd0\\xb1\\xd0\\xb5\\xd0\\xba\\xd1\\x87\\xd0\\xb0' <==> Oʻzbekcha/ўзбекча\n",
      "b'\\xe0\\xa8\\xaa\\xe0\\xa9\\xb0\\xe0\\xa8\\x9c\\xe0\\xa8\\xbe\\xe0\\xa8\\xac\\xe0\\xa9\\x80' <==> ਪੰਜਾਬੀ\n",
      "b'\\xd9\\xbe\\xd9\\x86\\xd8\\xac\\xd8\\xa7\\xd8\\xa8\\xdb\\x8c' <==> پنجابی\n",
      "b'\\xd9\\xbe\\xda\\x9a\\xd8\\xaa\\xd9\\x88' <==> پښتو\n",
      "b'Plattd\\xc3\\xbc\\xc3\\xbctsch' <==> Plattdüütsch\n",
      "b'Polski' <==> Polski\n",
      "b'Portugu\\xc3\\xaas' <==> Português\n",
      "b'Rom\\xc3\\xa2n\\xc4\\x83' <==> Română\n",
      "b'Romani' <==> Romani\n",
      "b'\\xd0\\xa0\\xd1\\x83\\xd1\\x81\\xd1\\x81\\xd0\\xba\\xd0\\xb8\\xd0\\xb9' <==> Русский\n",
      "b'Seeltersk' <==> Seeltersk\n",
      "b'Shqip' <==> Shqip\n",
      "b'Simple English' <==> Simple English\n",
      "b'Sloven\\xc4\\x8dina' <==> Slovenčina\n",
      "b'\\xda\\xa9\\xd9\\x88\\xd8\\xb1\\xd8\\xaf\\xdb\\x8c\\xdb\\x8c \\xd9\\x86\\xd8\\xa7\\xd9\\x88\\xdb\\x95\\xd9\\x86\\xd8\\xaf\\xdb\\x8c' <==> کوردیی ناوەندی\n",
      "b'\\xd0\\xa1\\xd1\\x80\\xd0\\xbf\\xd1\\x81\\xd0\\xba\\xd0\\xb8 / srpski' <==> Српски / srpski\n",
      "b'Suomi' <==> Suomi\n",
      "b'Svenska' <==> Svenska\n",
      "b'Tagalog' <==> Tagalog\n",
      "b'\\xe0\\xae\\xa4\\xe0\\xae\\xae\\xe0\\xae\\xbf\\xe0\\xae\\xb4\\xe0\\xaf\\x8d' <==> தமிழ்\n",
      "b'\\xe0\\xb8\\xa0\\xe0\\xb8\\xb2\\xe0\\xb8\\xa9\\xe0\\xb8\\xb2\\xe0\\xb9\\x84\\xe0\\xb8\\x97\\xe0\\xb8\\xa2' <==> ภาษาไทย\n",
      "b'Taqbaylit' <==> Taqbaylit\n",
      "b'\\xd0\\xa2\\xd0\\xb0\\xd1\\x82\\xd0\\xb0\\xd1\\x80\\xd1\\x87\\xd0\\xb0/tatar\\xc3\\xa7a' <==> Татарча/tatarça\n",
      "b'\\xe0\\xb0\\xa4\\xe0\\xb1\\x86\\xe0\\xb0\\xb2\\xe0\\xb1\\x81\\xe0\\xb0\\x97\\xe0\\xb1\\x81' <==> తెలుగు\n",
      "b'\\xd0\\xa2\\xd0\\xbe\\xd2\\xb7\\xd0\\xb8\\xd0\\xba\\xd3\\xa3' <==> Тоҷикӣ\n",
      "b'T\\xc3\\xbcrk\\xc3\\xa7e' <==> Türkçe\n",
      "b'\\xd0\\xa3\\xd0\\xba\\xd1\\x80\\xd0\\xb0\\xd1\\x97\\xd0\\xbd\\xd1\\x81\\xd1\\x8c\\xd0\\xba\\xd0\\xb0' <==> Українська\n",
      "b'\\xd8\\xa7\\xd8\\xb1\\xd8\\xaf\\xd9\\x88' <==> اردو\n",
      "b'Ti\\xe1\\xba\\xbfng Vi\\xe1\\xbb\\x87t' <==> Tiếng Việt\n",
      "b'V\\xc3\\xb5ro' <==> Võro\n",
      "b'\\xe6\\x96\\x87\\xe8\\xa8\\x80' <==> 文言\n",
      "b'\\xe5\\x90\\xb4\\xe8\\xaf\\xad' <==> 吴语\n",
      "b'\\xd7\\x99\\xd7\\x99\\xd6\\xb4\\xd7\\x93\\xd7\\x99\\xd7\\xa9' <==> ייִדיש\n",
      "b'\\xe4\\xb8\\xad\\xe6\\x96\\x87' <==> 中文\n"
     ]
    }
   ],
   "source": [
    "#ex23-ex-break\n",
    "import sys\n",
    "script,encoding,error,filename = sys.argv, \"utf-8\", \"strict\",\"reverse-encode.txt\"\n",
    "\n",
    "def main(language_file,encoding,errors):\n",
    "    target=open(filename,\"a+\")\n",
    "    line = language_file.readline()\n",
    "    if line:\n",
    "        \n",
    "        print_line(line,encoding,errors)\n",
    "        target.write(write_line(line,encoding,errors))\n",
    "        target.write(\"\\n\")\n",
    "        return main(language_file,encoding,errors)\n",
    "def print_line(line,encoding,errors):\n",
    "    next_lang = line.strip()    \n",
    "    raw_bytes = next_lang.encode(encoding,errors=errors)\n",
    "#     raw_bytes = line.encode(encoding,errors=errors)\n",
    "    cooked_string = raw_bytes.decode(encoding,errors=errors)\n",
    "    print(raw_bytes,\"<==>\",cooked_string)\n",
    "def write_line(line,encoding,errors):\n",
    "    #next_lang=line.strip()\n",
    "    raw_bytes = line.encode(encoding,errors=errors)\n",
    "    \n",
    "    return str(raw_bytes)\n",
    "\n",
    "languages = open(\"language.txt\",encoding=\"utf-8\")\n",
    "t = open(filename,\"w\")\n",
    "t.truncate()\n",
    "main(languages,encoding,error)"
   ]
  },
  {
   "cell_type": "code",
   "execution_count": 24,
   "metadata": {},
   "outputs": [
    {
     "name": "stdout",
     "output_type": "stream",
     "text": [
      "Let's practice everything.\n",
      "You'd need to know 'bout escapes with \\ that do:'\n",
      "\n",
      " newlines and \t tabs.\n",
      "--------------\n",
      "\n",
      "\tThe lovely world\n",
      "with logic so firmly planted\n",
      "cannot discern \n",
      " the needs of love\n",
      "nor comprehend passion from intuition\n",
      "and requires an explanation\n",
      "\n",
      "\t\twhere there is none.\n",
      "\n",
      "--------------\n",
      "This should be five:5\n",
      "With a starting point of: 10000\n",
      "We'd have 5000000 beans, 5000.0 jars, and 50.0 crates.\n",
      "We can also do that this way:\n",
      "We'd have 500000.0 beans, 500.0 jars, and 5.0 crates.\n"
     ]
    }
   ],
   "source": [
    "#ex24\n",
    "print(\"Let's practice everything.\")\n",
    "print(\"You\\'d need to know \\'bout escapes with \\\\ that do:'\")\n",
    "print('\\n newlines and \\t tabs.')\n",
    "\n",
    "poem = \"\"\"\n",
    "\\tThe lovely world\n",
    "with logic so firmly planted\n",
    "cannot discern \\n the needs of love\n",
    "nor comprehend passion from intuition\n",
    "and requires an explanation\n",
    "\\n\\t\\twhere there is none.\n",
    "\"\"\"\n",
    "print(\"--------------\")\n",
    "print(poem)\n",
    "print(\"--------------\")\n",
    "\n",
    "five = 10-2+3-6\n",
    "print(f\"This should be five:{five}\")\n",
    "def secret_formula(started):\n",
    "    jelly_beans = started * 500\n",
    "    jars = jelly_beans/1000\n",
    "    crates = jars/100\n",
    "    return jelly_beans,jars,crates\n",
    "start_point=10000\n",
    "beans,jars,crates = secret_formula(start_point)\n",
    "#remember that this is another way to format a string\n",
    "print(\"With a starting point of: {}\".format(start_point))\n",
    "#it's just like with an f\"\" string\n",
    "print(f\"We'd have {beans} beans, {jars} jars, and {crates} crates.\")\n",
    "start_point = start_point/10\n",
    "print(\"We can also do that this way:\")\n",
    "formula = secret_formula(start_point)\n",
    "#this is an easy way to apply a list to a format string\n",
    "print(\"We'd have {} beans, {} jars, and {} crates.\".format(*formula))"
   ]
  },
  {
   "cell_type": "code",
   "execution_count": 6,
   "metadata": {},
   "outputs": [
    {
     "ename": "ValueError",
     "evalue": "empty separator",
     "output_type": "error",
     "traceback": [
      "\u001b[0;31m---------------------------------------------------------------------------\u001b[0m",
      "\u001b[0;31mValueError\u001b[0m                                Traceback (most recent call last)",
      "\u001b[0;32m<ipython-input-6-bf9dbc23e179>\u001b[0m in \u001b[0;36m<module>\u001b[0;34m\u001b[0m\n\u001b[1;32m     30\u001b[0m     \u001b[0mprint_last_word\u001b[0m\u001b[0;34m(\u001b[0m\u001b[0mwords\u001b[0m\u001b[0;34m)\u001b[0m\u001b[0;34m\u001b[0m\u001b[0;34m\u001b[0m\u001b[0m\n\u001b[1;32m     31\u001b[0m \"\"\"\n\u001b[0;32m---> 32\u001b[0;31m \u001b[0mprint_first_and_last\u001b[0m\u001b[0;34m(\u001b[0m\u001b[0;34m\"sdf\"\u001b[0m\u001b[0;34m)\u001b[0m\u001b[0;34m\u001b[0m\u001b[0;34m\u001b[0m\u001b[0m\n\u001b[0m",
      "\u001b[0;32m<ipython-input-1-e637f8500c9b>\u001b[0m in \u001b[0;36mprint_first_and_last\u001b[0;34m(sentence)\u001b[0m\n\u001b[1;32m     21\u001b[0m \u001b[0;32mdef\u001b[0m \u001b[0mprint_first_and_last\u001b[0m\u001b[0;34m(\u001b[0m\u001b[0msentence\u001b[0m\u001b[0;34m)\u001b[0m\u001b[0;34m:\u001b[0m\u001b[0;34m\u001b[0m\u001b[0;34m\u001b[0m\u001b[0m\n\u001b[1;32m     22\u001b[0m     \u001b[0;34m\"\"\"Prints the first and last words of the sentence.\"\"\"\u001b[0m\u001b[0;34m\u001b[0m\u001b[0;34m\u001b[0m\u001b[0m\n\u001b[0;32m---> 23\u001b[0;31m     \u001b[0mwords\u001b[0m \u001b[0;34m=\u001b[0m \u001b[0mbreak_words\u001b[0m\u001b[0;34m(\u001b[0m\u001b[0msentence\u001b[0m\u001b[0;34m)\u001b[0m\u001b[0;34m\u001b[0m\u001b[0;34m\u001b[0m\u001b[0m\n\u001b[0m\u001b[1;32m     24\u001b[0m     \u001b[0mprint_first_word\u001b[0m\u001b[0;34m(\u001b[0m\u001b[0mwords\u001b[0m\u001b[0;34m)\u001b[0m\u001b[0;34m\u001b[0m\u001b[0;34m\u001b[0m\u001b[0m\n\u001b[1;32m     25\u001b[0m     \u001b[0mprint_last_word\u001b[0m\u001b[0;34m(\u001b[0m\u001b[0mwords\u001b[0m\u001b[0;34m)\u001b[0m\u001b[0;34m\u001b[0m\u001b[0;34m\u001b[0m\u001b[0m\n",
      "\u001b[0;32m<ipython-input-1-e637f8500c9b>\u001b[0m in \u001b[0;36mbreak_words\u001b[0;34m(stuff)\u001b[0m\n\u001b[1;32m      2\u001b[0m \u001b[0;32mdef\u001b[0m \u001b[0mbreak_words\u001b[0m\u001b[0;34m(\u001b[0m\u001b[0mstuff\u001b[0m\u001b[0;34m)\u001b[0m\u001b[0;34m:\u001b[0m\u001b[0;34m\u001b[0m\u001b[0;34m\u001b[0m\u001b[0m\n\u001b[1;32m      3\u001b[0m     \u001b[0;34m\"\"\"This function will break up words for us.\"\"\"\u001b[0m\u001b[0;34m\u001b[0m\u001b[0;34m\u001b[0m\u001b[0m\n\u001b[0;32m----> 4\u001b[0;31m     \u001b[0mwords\u001b[0m \u001b[0;34m=\u001b[0m \u001b[0mstuff\u001b[0m\u001b[0;34m.\u001b[0m\u001b[0msplit\u001b[0m\u001b[0;34m(\u001b[0m\u001b[0;34m''\u001b[0m\u001b[0;34m)\u001b[0m\u001b[0;34m\u001b[0m\u001b[0;34m\u001b[0m\u001b[0m\n\u001b[0m\u001b[1;32m      5\u001b[0m     \u001b[0;32mreturn\u001b[0m \u001b[0mwords\u001b[0m\u001b[0;34m\u001b[0m\u001b[0;34m\u001b[0m\u001b[0m\n\u001b[1;32m      6\u001b[0m \u001b[0;34m\u001b[0m\u001b[0m\n",
      "\u001b[0;31mValueError\u001b[0m: empty separator"
     ]
    }
   ],
   "source": [
    "\"\"\"ex25\n",
    "def break_words(stuff):\n",
    "    #This function will break up words for us.\n",
    "    words = stuff.split('')\n",
    "    return words\n",
    "\n",
    "def sort_words(words):\n",
    "    #Sorts the words\n",
    "    return sorted(words)\n",
    "def print_first_word(words):\n",
    "    #Prints the last word after popping it off.\n",
    "    word = words.pop(0)\n",
    "    print(word)\n",
    "def print_last_word(words):\n",
    "    #Prints the last word after popping it off\n",
    "    print(word)\n",
    "def sort_sentence(sentence):\n",
    "    #Takes in a full sentence and returns the sorted words\n",
    "    words = break_words(sentence)\n",
    "    return sort_words(words)\n",
    "def print_first_and_last(sentence):\n",
    "    #Prints the first and last words of the sentence.\n",
    "    words = break_words(sentence)\n",
    "    print_first_word(words)\n",
    "    print_last_word(words)\n",
    "def print_fist_and_last_sorted(sentence):\n",
    "    #Sorts the words then prints the first and last one\n",
    "    words = sort_sentence(sentence)\n",
    "    print_first_word(words)\n",
    "    print_last_word(words)\n",
    "\"\"\"\n"
   ]
  },
  {
   "cell_type": "code",
   "execution_count": 1,
   "metadata": {},
   "outputs": [],
   "source": [
    "import ex25\n",
    "sentence = \"All good things come to those who wait.\"\n",
    "words = ex25.break_words(sentence)"
   ]
  },
  {
   "cell_type": "code",
   "execution_count": 2,
   "metadata": {},
   "outputs": [
    {
     "data": {
      "text/plain": [
       "['All', 'good', 'things', 'come', 'to', 'those', 'who', 'wait.']"
      ]
     },
     "execution_count": 2,
     "metadata": {},
     "output_type": "execute_result"
    }
   ],
   "source": [
    "words"
   ]
  },
  {
   "cell_type": "code",
   "execution_count": 3,
   "metadata": {},
   "outputs": [],
   "source": [
    "sorted_words =ex25.sort_words(words)"
   ]
  },
  {
   "cell_type": "code",
   "execution_count": 4,
   "metadata": {},
   "outputs": [
    {
     "data": {
      "text/plain": [
       "['All', 'come', 'good', 'things', 'those', 'to', 'wait.', 'who']"
      ]
     },
     "execution_count": 4,
     "metadata": {},
     "output_type": "execute_result"
    }
   ],
   "source": [
    "sorted_words"
   ]
  },
  {
   "cell_type": "code",
   "execution_count": 5,
   "metadata": {},
   "outputs": [
    {
     "name": "stdout",
     "output_type": "stream",
     "text": [
      "All\n"
     ]
    }
   ],
   "source": [
    "ex25.print_first_word(words)"
   ]
  },
  {
   "cell_type": "code",
   "execution_count": 6,
   "metadata": {},
   "outputs": [
    {
     "name": "stdout",
     "output_type": "stream",
     "text": [
      "wait.\n"
     ]
    }
   ],
   "source": [
    "ex25.print_last_word(words)"
   ]
  },
  {
   "cell_type": "code",
   "execution_count": 7,
   "metadata": {},
   "outputs": [
    {
     "data": {
      "text/plain": [
       "['good', 'things', 'come', 'to', 'those', 'who']"
      ]
     },
     "execution_count": 7,
     "metadata": {},
     "output_type": "execute_result"
    }
   ],
   "source": [
    "words"
   ]
  },
  {
   "cell_type": "code",
   "execution_count": 8,
   "metadata": {
    "scrolled": true
   },
   "outputs": [
    {
     "name": "stdout",
     "output_type": "stream",
     "text": [
      "good\n"
     ]
    }
   ],
   "source": [
    "ex25.print_first_word(words)"
   ]
  },
  {
   "cell_type": "code",
   "execution_count": 9,
   "metadata": {
    "scrolled": true
   },
   "outputs": [
    {
     "name": "stdout",
     "output_type": "stream",
     "text": [
      "who\n"
     ]
    }
   ],
   "source": [
    "ex25.print_last_word(words)"
   ]
  },
  {
   "cell_type": "code",
   "execution_count": 11,
   "metadata": {},
   "outputs": [
    {
     "name": "stdout",
     "output_type": "stream",
     "text": [
      "Help on module ex25:\n",
      "\n",
      "NAME\n",
      "    ex25 - #ex25\n",
      "\n",
      "FUNCTIONS\n",
      "    break_words(stuff)\n",
      "        This function will break up words for us.\n",
      "    \n",
      "    print_first_and_last(sentence)\n",
      "        Prints the first and last words of the sentence.\n",
      "    \n",
      "    print_first_word(words)\n",
      "        Prints the last word after popping it off.\n",
      "    \n",
      "    print_fist_and_last_sorted(sentence)\n",
      "        Sorts the words then prints the first and last one\n",
      "    \n",
      "    print_last_word(words)\n",
      "        Prints the last word after popping it off\n",
      "    \n",
      "    sort_sentence(sentence)\n",
      "        Takes in a full sentence and returns the sorted words\n",
      "    \n",
      "    sort_words(words)\n",
      "        Sorts the words\n",
      "\n",
      "FILE\n",
      "    /home/tang/python_study/ex25.py\n",
      "\n",
      "\n"
     ]
    }
   ],
   "source": [
    "help(ex25)"
   ]
  },
  {
   "cell_type": "code",
   "execution_count": 10,
   "metadata": {},
   "outputs": [
    {
     "data": {
      "text/plain": [
       "['things', 'come', 'to', 'those']"
      ]
     },
     "execution_count": 10,
     "metadata": {},
     "output_type": "execute_result"
    }
   ],
   "source": [
    "words"
   ]
  },
  {
   "cell_type": "code",
   "execution_count": 18,
   "metadata": {},
   "outputs": [
    {
     "data": {
      "text/plain": [
       "['All', 'come', 'good', 'things', 'those', 'to', 'wait.', 'who']"
      ]
     },
     "execution_count": 18,
     "metadata": {},
     "output_type": "execute_result"
    }
   ],
   "source": [
    "sorted_words"
   ]
  },
  {
   "cell_type": "code",
   "execution_count": 19,
   "metadata": {},
   "outputs": [],
   "source": [
    "sorted_words =ex25.sort_sentence(sentence)"
   ]
  },
  {
   "cell_type": "code",
   "execution_count": 20,
   "metadata": {},
   "outputs": [
    {
     "data": {
      "text/plain": [
       "['All', 'come', 'good', 'things', 'those', 'to', 'wait.', 'who']"
      ]
     },
     "execution_count": 20,
     "metadata": {},
     "output_type": "execute_result"
    }
   ],
   "source": [
    "sorted_words"
   ]
  },
  {
   "cell_type": "code",
   "execution_count": 21,
   "metadata": {},
   "outputs": [
    {
     "name": "stdout",
     "output_type": "stream",
     "text": [
      "All\n",
      "wait.\n"
     ]
    }
   ],
   "source": [
    "ex25.print_first_and_last(sentence)"
   ]
  },
  {
   "cell_type": "code",
   "execution_count": 22,
   "metadata": {},
   "outputs": [
    {
     "name": "stdout",
     "output_type": "stream",
     "text": [
      "All\n",
      "who\n"
     ]
    }
   ],
   "source": [
    "ex25.print_fist_and_last_sorted(sentence)"
   ]
  },
  {
   "cell_type": "code",
   "execution_count": null,
   "metadata": {},
   "outputs": [],
   "source": []
  }
 ],
 "metadata": {
  "kernelspec": {
   "display_name": "Python 3",
   "language": "python",
   "name": "python3"
  },
  "language_info": {
   "codemirror_mode": {
    "name": "ipython",
    "version": 3
   },
   "file_extension": ".py",
   "mimetype": "text/x-python",
   "name": "python",
   "nbconvert_exporter": "python",
   "pygments_lexer": "ipython3",
   "version": "3.7.3"
  }
 },
 "nbformat": 4,
 "nbformat_minor": 2
}
