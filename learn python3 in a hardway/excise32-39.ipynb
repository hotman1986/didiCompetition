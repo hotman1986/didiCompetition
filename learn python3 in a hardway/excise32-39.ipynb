{
 "cells": [
  {
   "cell_type": "code",
   "execution_count": 1,
   "metadata": {},
   "outputs": [
    {
     "name": "stdout",
     "output_type": "stream",
     "text": [
      "This is count 1\n",
      "This is count 2\n",
      "This is count 3\n",
      "This is count 4\n",
      "This is count 5\n"
     ]
    }
   ],
   "source": [
    "#ex32\n",
    "the_count = [1,2,3,4,5]\n",
    "fruits = ['apples','oranges','pears','apricots']\n",
    "change = [1,'pennies',2,'dimes',3,'quarters']\n",
    "#this first kind of for-loop goes through a list\n",
    "for number in the_count:\n",
    "    print(f\"This is count {number}\")"
   ]
  },
  {
   "cell_type": "code",
   "execution_count": 2,
   "metadata": {},
   "outputs": [
    {
     "name": "stdout",
     "output_type": "stream",
     "text": [
      "A fruit of type:apples\n",
      "A fruit of type:oranges\n",
      "A fruit of type:pears\n",
      "A fruit of type:apricots\n"
     ]
    }
   ],
   "source": [
    "#same as above\n",
    "for fruit in fruits:\n",
    "    print(f\"A fruit of type:{fruit}\")"
   ]
  },
  {
   "cell_type": "code",
   "execution_count": 4,
   "metadata": {},
   "outputs": [
    {
     "name": "stdout",
     "output_type": "stream",
     "text": [
      "I got 1\n",
      "I got pennies\n",
      "I got 2\n",
      "I got dimes\n",
      "I got 3\n",
      "I got quarters\n"
     ]
    }
   ],
   "source": [
    "#also we can go through mixed lists too\n",
    "#notice we have to use{} since we don't know what's in it\n",
    "for i in change:\n",
    "    print(f\"I got {i}\")"
   ]
  },
  {
   "cell_type": "code",
   "execution_count": 6,
   "metadata": {},
   "outputs": [
    {
     "name": "stdout",
     "output_type": "stream",
     "text": [
      "Adding 0 to the list.\n",
      "Adding 1 to the list.\n",
      "Adding 2 to the list.\n",
      "Adding 3 to the list.\n",
      "Adding 4 to the list.\n",
      "Adding 5 to the list.\n",
      "Element was: 0\n",
      "Element was: 1\n",
      "Element was: 2\n",
      "Element was: 3\n",
      "Element was: 4\n",
      "Element was: 5\n"
     ]
    }
   ],
   "source": [
    "#we can also build lists,first start with an empty one \n",
    "elements = []\n",
    "#then use the range function to do 0 to 5 counts\n",
    "for i in range(0,6):\n",
    "    print(f\"Adding {i} to the list.\")\n",
    "    #append is a function that lists understand\n",
    "    elements.append(i)\n",
    "#now we can print them out too\n",
    "for i in elements:\n",
    "    print(f\"Element was: {i}\")"
   ]
  },
  {
   "cell_type": "code",
   "execution_count": 8,
   "metadata": {},
   "outputs": [],
   "source": [
    "elements = [i for i in range(0,6)]"
   ]
  },
  {
   "cell_type": "code",
   "execution_count": 9,
   "metadata": {},
   "outputs": [
    {
     "data": {
      "text/plain": [
       "[0, 1, 2, 3, 4, 5]"
      ]
     },
     "execution_count": 9,
     "metadata": {},
     "output_type": "execute_result"
    }
   ],
   "source": [
    "elements"
   ]
  },
  {
   "cell_type": "code",
   "execution_count": 3,
   "metadata": {},
   "outputs": [
    {
     "name": "stdout",
     "output_type": "stream",
     "text": [
      "At the top i is 0\n",
      "Numbers now:  [0]\n",
      "At the bottom i is 1\n",
      "\n",
      "\n",
      "At the top i is 1\n",
      "Numbers now:  [0, 1]\n",
      "At the bottom i is 2\n",
      "\n",
      "\n",
      "At the top i is 2\n",
      "Numbers now:  [0, 1, 2]\n",
      "At the bottom i is 3\n",
      "\n",
      "\n",
      "At the top i is 3\n",
      "Numbers now:  [0, 1, 2, 3]\n",
      "At the bottom i is 4\n",
      "\n",
      "\n",
      "At the top i is 4\n",
      "Numbers now:  [0, 1, 2, 3, 4]\n",
      "At the bottom i is 5\n",
      "\n",
      "\n",
      "At the top i is 5\n",
      "Numbers now:  [0, 1, 2, 3, 4, 5]\n",
      "At the bottom i is 6\n",
      "\n",
      "\n",
      "The numbers:\n",
      "0\n",
      "1\n",
      "2\n",
      "3\n",
      "4\n",
      "5\n"
     ]
    }
   ],
   "source": [
    "#ex33\n",
    "i = 0\n",
    "numbers = []\n",
    "while i < 6:\n",
    "    print(f\"At the top i is {i}\")\n",
    "    numbers.append(i)\n",
    "    \n",
    "    i = i+1\n",
    "    print(\"Numbers now: \",numbers)\n",
    "    print(f\"At the bottom i is {i}\")\n",
    "    print('\\n')\n",
    "print(\"The numbers:\")\n",
    "for num in numbers:\n",
    "    print(num)"
   ]
  },
  {
   "cell_type": "code",
   "execution_count": 10,
   "metadata": {},
   "outputs": [],
   "source": [
    "#study drill\n",
    "def while_loop(max_n,stride):\n",
    "    i=0\n",
    "    numbers=[]\n",
    "    while(i<max_n):\n",
    "        print(f\"At the top i is {i}\")\n",
    "        numbers.append(i)\n",
    "        print(\"Numbers now:\",numbers)\n",
    "        i+=stride\n",
    "        print(f\"At the bottom i is {i}\\n\")\n",
    "\n",
    "\n",
    "        "
   ]
  },
  {
   "cell_type": "code",
   "execution_count": 12,
   "metadata": {},
   "outputs": [],
   "source": [
    "def loop_for(max_n,stride):\n",
    "    for i in range(0,max_n,stride):\n",
    "        numbers = []\n",
    "        print(f\"At the top i is {i}\")\n",
    "        numbers.append(i)\n",
    "        print(\"Numbers nowL\",numbers)\n",
    "        print(f\"At the bottom i is {i}\\n\")"
   ]
  },
  {
   "cell_type": "code",
   "execution_count": 13,
   "metadata": {},
   "outputs": [
    {
     "name": "stdout",
     "output_type": "stream",
     "text": [
      "At the top i is 0\n",
      "Numbers nowL [0]\n",
      "At the bottom i is 0\n",
      "\n",
      "At the top i is 2\n",
      "Numbers nowL [2]\n",
      "At the bottom i is 2\n",
      "\n",
      "At the top i is 4\n",
      "Numbers nowL [4]\n",
      "At the bottom i is 4\n",
      "\n"
     ]
    }
   ],
   "source": [
    "loop_for(6,2)"
   ]
  },
  {
   "cell_type": "code",
   "execution_count": 2,
   "metadata": {},
   "outputs": [
    {
     "name": "stdout",
     "output_type": "stream",
     "text": [
      "python3.6\n",
      "peacock\n",
      "bear\n",
      "kangaroo\n",
      "whale\n",
      "peacock\n",
      "whale\n"
     ]
    }
   ],
   "source": [
    "#ex34\n",
    "animal = ['bear','python3.6','peacock','kangaroo','whale']\n",
    "print(animal[1])\n",
    "print(animal[2])\n",
    "print(animal[0])\n",
    "print(animal[3])\n",
    "print(animal[4])\n",
    "print(animal[2])\n",
    "#print(animal[5])\n",
    "print(animal[4])\n"
   ]
  },
  {
   "cell_type": "code",
   "execution_count": 9,
   "metadata": {},
   "outputs": [
    {
     "name": "stdout",
     "output_type": "stream",
     "text": [
      "You are in a dark room.\n",
      "There is a door to your right and left.\n",
      "Which one do you take?\n",
      "> left\n",
      "There is a bear here.\n",
      "The bear has a bunch of honey.\n",
      "The fat bear is in front of another door.\n",
      "How are you going to move the bear?\n",
      ">taunt bear\n",
      "The bear has moved from the door.\n",
      "You can go through it now.\n",
      ">open door\n",
      "This room is full of gold. How much do you take?\n",
      "> 2\n",
      "Man, learn to type a number. Good job!\n"
     ]
    },
    {
     "ename": "SystemExit",
     "evalue": "0",
     "output_type": "error",
     "traceback": [
      "An exception has occurred, use %tb to see the full traceback.\n",
      "\u001b[0;31mSystemExit\u001b[0m\u001b[0;31m:\u001b[0m 0\n"
     ]
    }
   ],
   "source": [
    "#ex35\n",
    "from sys import exit\n",
    "def gold_room():\n",
    "    print(\"This room is full of gold. How much do you take?\")\n",
    "    choice = input(\"> \")\n",
    "    if \"0\" in choice or \"1\" in choice:\n",
    "        how_much = int(choice)\n",
    "    else:\n",
    "        dead(\"Man, learn to type a number.\")\n",
    "    if how_much < 50:\n",
    "        print(\"Nice, you're not greedy, you win!\")\n",
    "    else:\n",
    "        dead(\"You greedy bastard!\")\n",
    "def bear_room():\n",
    "    print(\"There is a bear here.\")\n",
    "    print(\"The bear has a bunch of honey.\")\n",
    "    print(\"The fat bear is in front of another door.\")\n",
    "    print(\"How are you going to move the bear?\")\n",
    "    bear_moved = False\n",
    "    while True:\n",
    "        choice = input(\">\")\n",
    "        if choice == \"take honey\":\n",
    "            dead(\"The bear looks at you then slaps your face.\")\n",
    "        elif choice == \"taunt bear\" and not bear_moved:\n",
    "            print(\"The bear has moved from the door.\")\n",
    "            print(\"You can go through it now.\")\n",
    "            bear_moved = True\n",
    "        elif choice == \"taunt bear\" and bear_moved:\n",
    "            dead(\"The bear gets pissed off and chews your leg\")\n",
    "        elif choice == \"open door\" and bear_moved:\n",
    "            gold_room()\n",
    "        else:\n",
    "            print(\"I got no idea what that means.\")\n",
    "def cthulhu_room():\n",
    "    print(\"Here you see the great evil Cthulhu.\")\n",
    "    print(\"He, it, whatever stares at you and you go insane.\")\n",
    "    print(\"Do you flee for your life or eat your head?\")\n",
    "    choice = input(\"> \")\n",
    "    if \"flee\" in choice:\n",
    "        start()\n",
    "    elif \"head\" in choice:\n",
    "        dead(\"well that was tasty!\")\n",
    "    else:\n",
    "        cthulhu_room()\n",
    "def dead(why):\n",
    "    print(why,\"Good job!\")\n",
    "    exit(0)\n",
    "    \n",
    "def start():\n",
    "    print(\"You are in a dark room.\")\n",
    "    print(\"There is a door to your right and left.\")\n",
    "    print(\"Which one do you take?\")\n",
    "    choice = input(\"> \")\n",
    "    if choice == 'left':\n",
    "        bear_room()\n",
    "    elif choice == \"right\":\n",
    "        cthulhu_room()\n",
    "    else:\n",
    "        dead(\"You stumble around the room until you starve.\")\n",
    "start()"
   ]
  },
  {
   "cell_type": "code",
   "execution_count": 9,
   "metadata": {},
   "outputs": [],
   "source": [
    "def while_loop(max_number):\n",
    "    numbers = []\n",
    "    i=0\n",
    "    while i<=max_number:\n",
    "        numbers.append(i)\n",
    "        i+=1\n",
    "        #print(numbers)\n",
    "    return numbers"
   ]
  },
  {
   "cell_type": "code",
   "execution_count": 18,
   "metadata": {},
   "outputs": [
    {
     "ename": "TypeError",
     "evalue": "test() takes 1 positional argument but 2 were given",
     "output_type": "error",
     "traceback": [
      "\u001b[0;31m---------------------------------------------------------------------------\u001b[0m",
      "\u001b[0;31mTypeError\u001b[0m                                 Traceback (most recent call last)",
      "\u001b[0;32m<ipython-input-18-e7b51a64365c>\u001b[0m in \u001b[0;36m<module>\u001b[0;34m\u001b[0m\n\u001b[1;32m      3\u001b[0m         \u001b[0mprint\u001b[0m\u001b[0;34m(\u001b[0m\u001b[0mmessages\u001b[0m\u001b[0;34m)\u001b[0m\u001b[0;34m\u001b[0m\u001b[0;34m\u001b[0m\u001b[0m\n\u001b[1;32m      4\u001b[0m \u001b[0ma\u001b[0m \u001b[0;34m=\u001b[0m \u001b[0mThing\u001b[0m\u001b[0;34m(\u001b[0m\u001b[0;34m)\u001b[0m\u001b[0;34m\u001b[0m\u001b[0;34m\u001b[0m\u001b[0m\n\u001b[0;32m----> 5\u001b[0;31m \u001b[0ma\u001b[0m\u001b[0;34m.\u001b[0m\u001b[0mtest\u001b[0m\u001b[0;34m(\u001b[0m\u001b[0;34m'Hello'\u001b[0m\u001b[0;34m)\u001b[0m\u001b[0;34m\u001b[0m\u001b[0;34m\u001b[0m\u001b[0m\n\u001b[0m",
      "\u001b[0;31mTypeError\u001b[0m: test() takes 1 positional argument but 2 were given"
     ]
    }
   ],
   "source": [
    "class Thing(object):\n",
    "    def test(messages):\n",
    "        print(messages)\n",
    "a = Thing()\n",
    "a.test('Hello')"
   ]
  },
  {
   "cell_type": "code",
   "execution_count": 28,
   "metadata": {},
   "outputs": [
    {
     "name": "stdout",
     "output_type": "stream",
     "text": [
      "Wait there are not 10 things in that list. Let's fix\n",
      "Adding:  Boy\n",
      "There are 7 items now.\n",
      "Adding:  Girl\n",
      "There are 8 items now.\n",
      "Adding:  Banana\n",
      "There are 9 items now.\n",
      "Adding:  Corn\n",
      "There are 10 items now.\n",
      "There we go:  ['Apples', 'Oranges', 'Crows', 'Telephone', 'Light', 'Sugar', 'Boy', 'Girl', 'Banana', 'Corn']\n",
      "Let's do some things with stuff.\n",
      "Oranges\n",
      "Corn\n",
      "Corn\n",
      "Apples Oranges Crows Telephone Light Sugar Boy Girl Banana\n",
      "Telephone#Light\n"
     ]
    }
   ],
   "source": [
    "#ex38\n",
    "ten_things = \"Apples Oranges Crows Telephone Light Sugar\"\n",
    "print(\"Wait there are not 10 things in that list. Let's fix\")\n",
    "stuff = ten_things.split(' ')\n",
    "more_stuff = ['Day','Night','Song','Frisbee','Corn','Banana','Girl','Boy']\n",
    "while len(stuff)!=10:\n",
    "    next_one = more_stuff.pop()\n",
    "    print(\"Adding: \",next_one)\n",
    "    stuff.append(next_one)\n",
    "    print(f\"There are {len(stuff)} items now.\")\n",
    "print(\"There we go: \",stuff)\n",
    "print(\"Let's do some things with stuff.\")\n",
    "\n",
    "print(stuff[1])#Oranges\n",
    "print(stuff[-1])#Corn\n",
    "print(stuff.pop())#\n",
    "print(' '.join(stuff))\n",
    "print('#'.join(stuff[3:5]))"
   ]
  },
  {
   "cell_type": "code",
   "execution_count": 23,
   "metadata": {},
   "outputs": [
    {
     "data": {
      "text/plain": [
       "['Day', 'Night', 'Song', 'Frisbee']"
      ]
     },
     "execution_count": 23,
     "metadata": {},
     "output_type": "execute_result"
    }
   ],
   "source": [
    "more_stuff"
   ]
  },
  {
   "cell_type": "code",
   "execution_count": 29,
   "metadata": {},
   "outputs": [
    {
     "ename": "NameError",
     "evalue": "name 'pop' is not defined",
     "output_type": "error",
     "traceback": [
      "\u001b[0;31m---------------------------------------------------------------------------\u001b[0m",
      "\u001b[0;31mNameError\u001b[0m                                 Traceback (most recent call last)",
      "\u001b[0;32m<ipython-input-29-f6a4476328ae>\u001b[0m in \u001b[0;36m<module>\u001b[0;34m\u001b[0m\n\u001b[0;32m----> 1\u001b[0;31m \u001b[0ma\u001b[0m \u001b[0;34m=\u001b[0m \u001b[0mpop\u001b[0m\u001b[0;34m(\u001b[0m\u001b[0mmore_stuff\u001b[0m\u001b[0;34m)\u001b[0m\u001b[0;34m\u001b[0m\u001b[0;34m\u001b[0m\u001b[0m\n\u001b[0m",
      "\u001b[0;31mNameError\u001b[0m: name 'pop' is not defined"
     ]
    }
   ],
   "source": [
    "a = pop(more_stuff)"
   ]
  },
  {
   "cell_type": "code",
   "execution_count": 3,
   "metadata": {},
   "outputs": [
    {
     "name": "stdout",
     "output_type": "stream",
     "text": [
      "b\n",
      "z\n",
      "['a', 'z', 'c', 'd']\n"
     ]
    }
   ],
   "source": [
    "#ex39\n",
    "things = ['a','b','c','d']\n",
    "print(things[1])\n",
    "things[1]='z'\n",
    "print(things[1])\n",
    "print(things)"
   ]
  },
  {
   "cell_type": "code",
   "execution_count": 7,
   "metadata": {},
   "outputs": [
    {
     "name": "stdout",
     "output_type": "stream",
     "text": [
      "Zed\n",
      "39\n",
      "74\n",
      "SF\n",
      "{'name': 'Zed', 'age': '39', 'height': 74, 'city': 'SF'}\n"
     ]
    }
   ],
   "source": [
    "stuff = {'name': 'Zed','age':'39','height':6*12+2}\n",
    "print(stuff['name'])\n",
    "print(stuff['age'])\n",
    "print(stuff['height'])\n",
    "stuff['city']='SF'\n",
    "print(stuff['city'])\n",
    "print(stuff)"
   ]
  },
  {
   "cell_type": "code",
   "execution_count": 10,
   "metadata": {},
   "outputs": [
    {
     "name": "stdout",
     "output_type": "stream",
     "text": [
      "wow Neato {'name': 'Zed', 'age': '39', 'height': 74, 'city': 'SF', 1: 'wow', 2: 'Neato'}\n"
     ]
    }
   ],
   "source": [
    "stuff[1]=\"wow\"\n",
    "stuff[2]='Neato'\n",
    "print(stuff[1],stuff[2],stuff)"
   ]
  },
  {
   "cell_type": "code",
   "execution_count": 12,
   "metadata": {},
   "outputs": [
    {
     "name": "stdout",
     "output_type": "stream",
     "text": [
      "{'name': 'Zed', 'age': '39', 'height': 74}\n"
     ]
    }
   ],
   "source": [
    "del stuff['city'],stuff[1],stuff[2]\n",
    "print(stuff)"
   ]
  },
  {
   "cell_type": "code",
   "execution_count": 3,
   "metadata": {},
   "outputs": [
    {
     "name": "stdout",
     "output_type": "stream",
     "text": [
      "----------\n",
      "NY State has:New York\n",
      "OR State has:Portland\n",
      "----------\n",
      "Michigan's abbreviation is:{states['Michigan']}\n",
      "Florida's abbreviation is:{states[Florida]}\n",
      "----------\n",
      "Michigan has:Detroit\n",
      "Florida has:Jacksonville\n",
      "----------\n",
      "Oregon is abrreviated OR\n",
      "Florida is abrreviated FL\n",
      "California is abrreviated CA\n",
      "New York is abrreviated NY\n",
      "Michigan is abrreviated MI\n",
      "----------\n",
      "CA has the San Francisco\n",
      "MI has the Detroit\n",
      "FL has the Jacksonville\n",
      "NY has the New York\n",
      "OR has the Portland\n",
      "----------\n",
      "Oregon state is abbreviated OR, and has the Portland\n",
      "Florida state is abbreviated FL, and has the Jacksonville\n",
      "California state is abbreviated CA, and has the San Francisco\n",
      "New York state is abbreviated NY, and has the New York\n",
      "Michigan state is abbreviated MI, and has the Detroit\n",
      "----------\n",
      "The city for the state 'TX' is:Does Not Exist\n"
     ]
    }
   ],
   "source": [
    "#create a mapping of state to abbreviation\n",
    "states = {\n",
    "    'Oregon':'OR',\n",
    "    'Florida':'FL',\n",
    "    'California':'CA',\n",
    "    'New York':'NY',\n",
    "    'Michigan':'MI'\n",
    "}\n",
    "#create a basic set of states and some cities in them\n",
    "cities = {\n",
    "    'CA':'San Francisco',\n",
    "    'MI':'Detroit',\n",
    "    'FL':'Jacksonville'    \n",
    "}\n",
    "#add some more cities\n",
    "cities['NY']= 'New York'\n",
    "cities['OR'] = 'Portland'\n",
    "\n",
    "#print out some cities\n",
    "print('-'*10)\n",
    "print(f\"NY State has:{cities['NY']}\")\n",
    "print(f\"OR State has:{cities['OR']}\")\n",
    "      \n",
    "#print out some states\n",
    "print('-'*10)\n",
    "print(\"Michigan's abbreviation is:{states['Michigan']}\")\n",
    "print(\"Florida's abbreviation is:{states[Florida]}\")\n",
    "\n",
    "#do it by using the state then cities dict\n",
    "print('-'*10)\n",
    "print(f\"Michigan has:{cities[states['Michigan']]}\")\n",
    "print(f\"Florida has:{cities[states['Florida']]}\")\n",
    "#print every state abbreviation\n",
    "print('-'*10)\n",
    "for state,abrrev in list(states.items()):\n",
    "      print(f\"{state} is abrreviated {abrrev}\")\n",
    "#print every city in state\n",
    "print('-'*10)\n",
    "for abrrev,city in list(cities.items()):\n",
    "      print(f\"{abrrev} has the {city}\")\n",
    "#now do both at the same time\n",
    "print('-'*10)\n",
    "for state,abrrev in list(states.items()):  \n",
    "    \n",
    "    print(f\"{state} state is abbreviated {abrrev}, and has the {cities[abrrev]}\")\n",
    "print(\"-\"*10)\n",
    "#safely get a abbreviation by state that might not be there\n",
    "state = states.get(\"Texas\")\n",
    "if not state:\n",
    "    print(\"Sorry,no Texas.\")\n",
    "#get a city with a default value\n",
    "city = cities.get(\"TX\",'Does Not Exist')\n",
    "print(f\"The city for the state 'TX' is:{city}\")\n",
    "\n"
   ]
  },
  {
   "cell_type": "code",
   "execution_count": null,
   "metadata": {},
   "outputs": [],
   "source": []
  },
  {
   "cell_type": "code",
   "execution_count": null,
   "metadata": {},
   "outputs": [],
   "source": []
  }
 ],
 "metadata": {
  "kernelspec": {
   "display_name": "Python 3",
   "language": "python",
   "name": "python3"
  },
  "language_info": {
   "codemirror_mode": {
    "name": "ipython",
    "version": 3
   },
   "file_extension": ".py",
   "mimetype": "text/x-python",
   "name": "python",
   "nbconvert_exporter": "python",
   "pygments_lexer": "ipython3",
   "version": "3.7.3"
  }
 },
 "nbformat": 4,
 "nbformat_minor": 2
}
