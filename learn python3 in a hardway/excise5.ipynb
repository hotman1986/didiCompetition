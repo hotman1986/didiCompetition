{
 "cells": [
  {
   "cell_type": "code",
   "execution_count": 1,
   "metadata": {},
   "outputs": [],
   "source": [
    "#ex5\n",
    "my_name = 'Zed A. shaw'\n",
    "my_age = 35 # note a lie\n",
    "my_height = 74#inches\n",
    "my_weight = 180 #lbs\n",
    "my_eyes = 'Blue'\n",
    "my_teeth = 'White'\n",
    "my_hair = 'Brown'\n",
    "\n",
    "print(f\"Let's talk about{my_name}.\")\n",
    "print(f\"He's {my_height} inches tall.\")\n",
    "print(f\"He's {my_weight} pounds heavy.\")\n",
    "print(f\"Actually that's not too heavy\")\n",
    "\n",
    "print(f\"He's got {my_eyes} eyes and {my_hair} hair.\")\n",
    "\n",
    "print(f\"His teeth are usually {my_teeth} depending on the coffee.\")\n",
    "\n",
    "#this line is tricky,try to get it exactly right\n",
    "total = my_age +my_height + my_weight\n",
    "print(f\"If I add {my_age},{my_height},and {my_weight} I get {total}\")"
   ]
  },
  {
   "cell_type": "code",
   "execution_count": null,
   "metadata": {},
   "outputs": [],
   "source": [
    "#ex6\n",
    "types_of_people = 10\n",
    "x =f\"There are {types_of_people} types of people\"\n",
    "\n",
    "binary=\"binary\"\n",
    "do_not=\"don't\"\n",
    "y = f\"Those who know {binary} and those who {do_not}.\"\n",
    "print(x)\n",
    "print(y)\n",
    "\n",
    "print(f\"I said:{x}\")\n",
    "print(f\"I also said: '{y}'\")\n",
    "\n",
    "hilarious = False\n",
    "joke_evaluation = \"Isn't that joke so funny?! {}\"###########good way to format\n",
    "print(joke_evaluation.format(hilarious))\n",
    "\n",
    "w = \"This is the left side of ...\"\n",
    "e= \"a string with a right side.\"\n",
    "print(w+e)\n"
   ]
  },
  {
   "cell_type": "code",
   "execution_count": 29,
   "metadata": {},
   "outputs": [
    {
     "name": "stdout",
     "output_type": "stream",
     "text": [
      "Mary had a little lamb.\n",
      "Its fleece was white as snow.\n",
      "And everywhere that Mary went.\n",
      "..........\n",
      "Cheese Burger\n"
     ]
    }
   ],
   "source": [
    "#ex7\n",
    "print(\"Mary had a little lamb.\")\n",
    "print(\"Its fleece was white as {}.\".format('snow'))\n",
    "print(\"And everywhere that Mary went.\")\n",
    "print(\".\"*10)#what'd that do?\n",
    "\n",
    "end1 = \"C\"\n",
    "end2 = \"h\"\n",
    "end3 = \"e\"\n",
    "end4 = \"e\"\n",
    "end5 = \"s\"\n",
    "end6 = \"e\"\n",
    "end7 = \"B\"\n",
    "end8 = \"u\"\n",
    "end9 = \"r\"\n",
    "end10 = \"g\"\n",
    "end11 = \"e\"\n",
    "end12 = \"r\"\n",
    "#watch that comma at the end. try removing it to see what h\n",
    "print(end1+end2+end3+end4+end5+end6,end=\" \")# add string and blank\n",
    "print(end7+end8+end9+end10+end11+end12)"
   ]
  },
  {
   "cell_type": "code",
   "execution_count": 34,
   "metadata": {},
   "outputs": [
    {
     "name": "stdout",
     "output_type": "stream",
     "text": [
      "__1 2 3 4\n",
      "__one two three four\n",
      "__True False False True\n",
      "__{} {} {} {} __{} {} {} {} __{} {} {} {} __{} {} {} {}\n",
      "__Try your Own text here Maybe a peom Or a song about fear\n"
     ]
    }
   ],
   "source": [
    "#ex8\n",
    "formatter = \"{} {} {} {}\"\n",
    "\n",
    "print(formatter.format(1,2,3,4))\n",
    "print(formatter.format(\"one\",\"two\",\"three\",\"four\"))\n",
    "print(formatter.format(True,False,False,True))\n",
    "print(formatter,formatter,formatter,formatter)\n",
    "print(formatter.format(\n",
    "\"Try your\",\n",
    "\"Own text here\",\n",
    "\"Maybe a peom\",\n",
    "\"Or a song about fear\"))"
   ]
  },
  {
   "cell_type": "code",
   "execution_count": 37,
   "metadata": {},
   "outputs": [
    {
     "name": "stdout",
     "output_type": "stream",
     "text": [
      "Here are the days:  Mon Tue Wed Thu Fri Sat Sun\n",
      "Here are the months:  Jan\n",
      "Feb\n",
      "Mar\n",
      "Apr\n",
      "May\n",
      "Jun\n",
      "Jul\n",
      "Aug\n",
      "\n",
      "There's something going on here.\n",
      "With the three double-quotes.\n",
      "We'll be able to type as much as we like.\n",
      "Even 4 lines if we want, or 5,or 6.\n"
     ]
    }
   ],
   "source": [
    "#ex9\n",
    "# Here's some new strange stuff, remember type it exactly.\n",
    "days = \"Mon Tue Wed Thu Fri Sat Sun\"\n",
    "months = \"Jan\\nFeb\\nMar\\nApr\\nMay\\nJun\\nJul\\nAug\"\n",
    "\n",
    "print(\"Here are the days: \",days)\n",
    "print(\"Here are the months: \",months)\n",
    "print(\"\"\"\n",
    "There's something going on here.\n",
    "With the three double-quotes.\n",
    "We'll be able to type as much as we like.\n",
    "Even 4 lines if we want, or 5,or 6.\"\"\")"
   ]
  },
  {
   "cell_type": "code",
   "execution_count": 67,
   "metadata": {},
   "outputs": [
    {
     "name": "stdout",
     "output_type": "stream",
     "text": [
      "\tI'm tabbed in.\n",
      "I'm split\n",
      "on a line.\n",
      "I'm \\ a \\ cat.\n",
      "\n",
      "I'll do a list:\n",
      "\t* Cat food\n",
      "\t* Fishies\n",
      "\t* Catnip\n",
      "\t* Grass\n",
      "\n",
      "ggg\u0007ggg\n",
      "hhh\bhhh\n",
      "aaa\f",
      "aaaassdfasdf\n",
      "aaa\n",
      "\n",
      "sdf\r",
      "sdfasdfasdf\n"
     ]
    }
   ],
   "source": [
    "#ex10\n",
    "tabby_cat = \"\\tI'm tabbed in.\"\n",
    "persian_cat = \"I'm split\\non a line.\"\n",
    "backslash_cat = \"I'm \\\\ a \\\\ cat.\"\n",
    "\n",
    "fat_cat = \"\"\"\n",
    "I'll do a list:\n",
    "\\t* Cat food\n",
    "\\t* Fishies\n",
    "\\t* Catnip\\n\\t* Grass\n",
    "\"\"\"\n",
    "print(tabby_cat)\n",
    "print(persian_cat)\n",
    "print(backslash_cat)\n",
    "print(fat_cat)\n",
    "print('ggg\\aggg')\n",
    "print('hhh\\bhhh')\n",
    "print('aaa\\faaa'+'assdfasdf')\n",
    "print('aaa\\n')\n",
    "print('sdf\\r'+'sdfasdfasdf')\n"
   ]
  },
  {
   "cell_type": "code",
   "execution_count": 3,
   "metadata": {},
   "outputs": [
    {
     "name": "stdout",
     "output_type": "stream",
     "text": [
      "How old are you? 32\n",
      "How tall are you? 180\n",
      "How much do you weigh? 75\n",
      "So, you're 32 old,180 tall and 75 heavy\n",
      "How old are you?\n",
      "32\n",
      "How tall are you?\n",
      "180\n",
      "How much do you weigh?\n",
      "75\n",
      "So, you're 32 old,180 tall and 75 heavy\n"
     ]
    }
   ],
   "source": [
    "#ex11\n",
    "print(\"How old are you?\",end=\" \")#####end=\" \" means not end the line with a newline character and go to the next line\n",
    "age = input()\n",
    "print(\"How tall are you?\", end=\" \")\n",
    "height = input()\n",
    "print(\"How much do you weigh?\", end=\" \")\n",
    "weight = input()\n",
    "\n",
    "print(f\"So, you're {age} old,{height} tall and {weight} heavy\")\n",
    "\n",
    "print(\"How old are you?\")\n",
    "age = input()\n",
    "print(\"How tall are you?\")\n",
    "height = input()\n",
    "print(\"How much do you weigh?\")\n",
    "weight = input()\n",
    "\n",
    "print(f\"So, you're {age} old,{height} tall and {weight} heavy\")"
   ]
  },
  {
   "cell_type": "code",
   "execution_count": 2,
   "metadata": {},
   "outputs": [
    {
     "name": "stdout",
     "output_type": "stream",
     "text": [
      "so you are good son of bitch\n"
     ]
    }
   ],
   "source": [
    "fker=\"son of bitch\"\n",
    "print(f\"so you are good {fker}\")"
   ]
  },
  {
   "cell_type": "code",
   "execution_count": 1,
   "metadata": {},
   "outputs": [
    {
     "name": "stdout",
     "output_type": "stream",
     "text": [
      "How old are you?32\n",
      "How tall are you?180cm\n",
      "How much do you weigh?75kg\n",
      "So, you're {age} old, {height} tall and {weight} heavy\n"
     ]
    }
   ],
   "source": [
    "#ex12\n",
    "age = input(\"How old are you?\")\n",
    "height = input(\"How tall are you?\")\n",
    "weight = input(\"How much do you weigh?\")\n",
    "\n",
    "print(f\"So, you're {age} old, {height} tall and {weight} heavy\")"
   ]
  },
  {
   "cell_type": "code",
   "execution_count": 6,
   "metadata": {},
   "outputs": [
    {
     "name": "stdout",
     "output_type": "stream",
     "text": [
      "The script is called: ['/usr/local/lib/python3.7/site-packages/ipykernel_launcher.py', '-f', '/root/.local/share/jupyter/runtime/kernel-61df78f1-d951-49d4-b476-9ce99f056f0b.json']\n",
      "Your first variable is: Anything Here 1\n",
      "Your second variable is: Anything Here 2\n",
      "Your third variable is: Anything Here 3\n"
     ]
    }
   ],
   "source": [
    "#ex13\n",
    "from sys import argv\n",
    "#read the WYSS section for how to run this\n",
    "script,first,second,third = argv,\"Anything Here 1\",\"Anything Here 2\",\"Anything Here 3\"\n",
    "print(\"The script is called:\",script)\n",
    "print(\"Your first variable is:\",first)\n",
    "print(\"Your second variable is:\",second)\n",
    "print(\"Your third variable is:\",third)#need a script"
   ]
  },
  {
   "cell_type": "code",
   "execution_count": 7,
   "metadata": {},
   "outputs": [
    {
     "name": "stdout",
     "output_type": "stream",
     "text": [
      "Hi tang,I'm the ['/usr/local/lib/python3.7/site-packages/ipykernel_launcher.py', '-f', '/root/.local/share/jupyter/runtime/kernel-61df78f1-d951-49d4-b476-9ce99f056f0b.json'] script.\n",
      "I'd like to ask you a few questions.\n",
      "Do you like me tang?\n",
      ">yes\n",
      "Where do you live tang?\n",
      ">parco gioeni\n",
      "What kind of computer do you have?\n",
      ">my own\n",
      "\n",
      "Alright, so you said yes about liking me.\n",
      "You live in parco gioeni. Not sure where that is.\n",
      "And you have amy own computer.Nice.\n"
     ]
    }
   ],
   "source": [
    "##ex14\n",
    "from sys import argv\n",
    "script,user_name = argv,\"tang\"\n",
    "prompt = '>'\n",
    "print(f\"Hi {user_name},I'm the {script} script.\")\n",
    "print(\"I'd like to ask you a few questions.\")\n",
    "print(f\"Do you like me {user_name}?\")\n",
    "likes = input(prompt)\n",
    "\n",
    "print(f\"Where do you live {user_name}?\")\n",
    "lives = input(prompt)\n",
    "\n",
    "print(\"What kind of computer do you have?\")\n",
    "computer = input(prompt)\n",
    "\n",
    "print(f\"\"\"\n",
    "Alright, so you said {likes} about liking me.\n",
    "You live in {lives}. Not sure where that is.\n",
    "And you have a {computer} computer.Nice.\"\"\")"
   ]
  },
  {
   "cell_type": "code",
   "execution_count": 2,
   "metadata": {},
   "outputs": [
    {
     "name": "stdout",
     "output_type": "stream",
     "text": [
      "Here's your file ex15_sample.txt:\n",
      "This is stuff I typed into a file.\n",
      "It is really cool stuff.\n",
      "Lots and lots of fun to have in here.\n",
      "Type the filename again:\n",
      ">ex13.py\n",
      "#ex13\n",
      "from sys import argv\n",
      "#read the WYSS section for how to run this\n",
      "\n",
      "script,first,second,third = argv\n",
      "\n",
      "print(\"The script is called:\",script)\n",
      "print(\"Your first variable is:\",first)\n",
      "print(\"Your second variable is:\",second)\n",
      "print(\"Your third variable is:\",third)\n",
      "script = input(\"script\")\n",
      "first = input(\"first\")\n",
      "second = input(\"second\")\n",
      "third = input(\"third\")\n",
      "print(\"The script is called:\",script)\n",
      "print(\"Your first variable is:\",first)\n",
      "print(\"Your second variable is:\",second)\n",
      "print(\"Your third variable is:\",third)\n",
      "Automatically open:\n",
      ">\n",
      "##ex14\n",
      "from sys import argv\n",
      "script,user_name = argv\n",
      "prompt = '>'\n",
      "print(f\"Hi {user_name},I'm the {script} script.\")\n",
      "print(\"I'd like to ask you a few questions.\")\n",
      "print(f\"Do you like me {user_name}?\")\n",
      "likes = input(prompt)\n",
      "\n",
      "print(f\"Where do you live {user_name}?\")\n",
      "lives = input(prompt)\n",
      "\n",
      "print(\"What kind of computer do you have?\")\n",
      "computer = input(prompt)\n",
      "\n",
      "print(f\"\"\"\n",
      "Alright, so you said {likes} about liking me.\n",
      "You live in {lives}. Not sure where that is.\n",
      "And you have a{computer} computer.Nice.\"\"\")\n"
     ]
    }
   ],
   "source": [
    "#ex15\n",
    "#read the files\n",
    "from sys import argv\n",
    "\n",
    "scirpt,filename=argv,\"ex15_sample.txt\"\n",
    "txt = open(filename)\n",
    "\n",
    "print(f\"Here's your file {filename}:\")\n",
    "print(txt.read())\n",
    "\n",
    "print(\"Type the filename again:\")\n",
    "file_again = input(\">\")\n",
    "txt_again = open(file_again)\n",
    "print(txt_again.read())\n",
    "\n",
    "print(\"Automatically open:\")\n",
    "print(\">\")\n",
    "txt_again = open(\"ex14.py\")\n",
    "print(txt_again.read())      \n",
    "#close files\n",
    "txt_again.close()"
   ]
  },
  {
   "cell_type": "code",
   "execution_count": 4,
   "metadata": {},
   "outputs": [
    {
     "name": "stdout",
     "output_type": "stream",
     "text": [
      "please input the file you want to openeditor.txt\n",
      "We're going to erase editor.txt.\n",
      "If you don't want that, hit CTRL-C(^C).\n",
      "If you do want that,hit RETURN.\n",
      "?\n",
      "Opening the file...\n",
      "Truncating the file. Goodbye!\n"
     ]
    },
    {
     "ename": "UnsupportedOperation",
     "evalue": "File not open for writing",
     "output_type": "error",
     "traceback": [
      "\u001b[0;31m---------------------------------------------------------------------------\u001b[0m",
      "\u001b[0;31mUnsupportedOperation\u001b[0m                      Traceback (most recent call last)",
      "\u001b[0;32m<ipython-input-4-69733a348dbb>\u001b[0m in \u001b[0;36m<module>\u001b[0;34m\u001b[0m\n\u001b[1;32m     13\u001b[0m \u001b[0;34m\u001b[0m\u001b[0m\n\u001b[1;32m     14\u001b[0m \u001b[0mprint\u001b[0m\u001b[0;34m(\u001b[0m\u001b[0;34m\"Truncating the file. Goodbye!\"\u001b[0m\u001b[0;34m)\u001b[0m\u001b[0;34m\u001b[0m\u001b[0;34m\u001b[0m\u001b[0m\n\u001b[0;32m---> 15\u001b[0;31m \u001b[0mtarget\u001b[0m\u001b[0;34m.\u001b[0m\u001b[0mtruncate\u001b[0m\u001b[0;34m(\u001b[0m\u001b[0;34m)\u001b[0m\u001b[0;34m\u001b[0m\u001b[0;34m\u001b[0m\u001b[0m\n\u001b[0m\u001b[1;32m     16\u001b[0m \u001b[0;34m\u001b[0m\u001b[0m\n\u001b[1;32m     17\u001b[0m \u001b[0mprint\u001b[0m\u001b[0;34m(\u001b[0m\u001b[0;34m\"Now I'm going to ask you for three lines.\"\u001b[0m\u001b[0;34m)\u001b[0m\u001b[0;34m\u001b[0m\u001b[0;34m\u001b[0m\u001b[0m\n",
      "\u001b[0;31mUnsupportedOperation\u001b[0m: File not open for writing"
     ]
    }
   ],
   "source": [
    "#ex16\n",
    "from sys import argv\n",
    "filename=input(\"please input the file you want to open\")\n",
    "script,filename = argv,filename\n",
    "\n",
    "print(f\"We're going to erase {filename}.\")\n",
    "print(\"If you don't want that, hit CTRL-C(^C).\")\n",
    "print(\"If you do want that,hit RETURN.\")\n",
    "\n",
    "input(\"?\")\n",
    "print(\"Opening the file...\")\n",
    "target = open(filename,'w')\n",
    "\n",
    "print(\"Truncating the file. Goodbye!\")\n",
    "target.truncate()\n",
    "\n",
    "print(\"Now I'm going to ask you for three lines.\")\n",
    "\n",
    "line1 = input(\"line 1: \")\n",
    "line2 = input(\"line 2: \")\n",
    "line3 = input(\"line 3: \")\n",
    "\n",
    "print(\"I'm going to write these to the files.\")\n",
    "\n",
    "target.write(line1)\n",
    "target.write(\"\\n\")\n",
    "target.write(line2)\n",
    "target.write(\"\\n\")\n",
    "target.write(line3)\n",
    "target.write(\"\\n\")\n",
    "#combine it with one write line\n",
    "\n",
    "target.write(f\"{line1} \\n{line2} \\n{line3}  \")\n",
    "\n",
    "print(\"And finally, we close it.\")\n",
    "target.close()\n"
   ]
  },
  {
   "cell_type": "code",
   "execution_count": 6,
   "metadata": {},
   "outputs": [
    {
     "name": "stdout",
     "output_type": "stream",
     "text": [
      "Copying from editor.txt to copy_editor.txt\n",
      "The input file is 249 bytes long\n",
      "Does the output file exist? True\n",
      "Ready,hit RETURN to continue,CTRL-C to abort.\n",
      "\n",
      "Alright,all done.\n"
     ]
    }
   ],
   "source": [
    "#ex17\n",
    "from sys import argv\n",
    "from os.path import exists\n",
    "scripit,from_file,to_file = argv,\"editor.txt\",\"copy_editor.txt\"\n",
    "\n",
    "print(f\"Copying from {from_file} to {to_file}\")\n",
    "\n",
    "#we could do these two on one line,how?\n",
    "in_file = open(from_file)\n",
    "indata = in_file.read()\n",
    "\n",
    "print(f\"The input file is {len(indata)} bytes long\")\n",
    "\n",
    "print(f\"Does the output file exist? {exists(to_file)}\")\n",
    "print(\"Ready,hit RETURN to continue,CTRL-C to abort.\")\n",
    "input()\n",
    "\n",
    "out_file = open(to_file,'w')\n",
    "out_file.write(indata)\n",
    "\n",
    "print(\"Alright,all done.\")\n",
    "\n",
    "out_file.close()\n",
    "in_file.close()"
   ]
  },
  {
   "cell_type": "code",
   "execution_count": 9,
   "metadata": {},
   "outputs": [
    {
     "name": "stdout",
     "output_type": "stream",
     "text": [
      "arg1:Zed,arg2: Shaw\n",
      "arg1:Zed,arg2:Shaw\n",
      "arg1:First!\n",
      "I go nothin'.\n"
     ]
    }
   ],
   "source": [
    "#ex18\n",
    "#this one is like your scripts with argv\n",
    "def print_two(*args):\n",
    "    arg1,arg2 = args\n",
    "    print(f\"arg1:{arg1},arg2: {arg2}\")\n",
    "#ok, that *args is actually pointless, we can just do this\n",
    "def print_two_again(arg1,arg2):\n",
    "    print(f\"arg1:{arg1},arg2:{arg2}\")\n",
    "#this just takes one argument\n",
    "def print_one(arg1):\n",
    "    print(f\"arg1:{arg1}\")\n",
    "#this one takes no arguments\n",
    "def print_none():\n",
    "    print(\"I go nothin'.\")\n",
    "\n",
    "print_two(\"Zed\",\"Shaw\")\n",
    "print_two_again(\"Zed\",\"Shaw\")\n",
    "print_one(\"First!\")\n",
    "print_none()\n"
   ]
  },
  {
   "cell_type": "code",
   "execution_count": 4,
   "metadata": {},
   "outputs": [
    {
     "name": "stdout",
     "output_type": "stream",
     "text": [
      "We can just give the function numbers directly:\n",
      "You have 20 cheeses!\n",
      "You have 30 boxes of crackers!\n",
      "Man that's enough for a party!\n",
      "Get a blanket.\n",
      "\n",
      "OR, we can use variables from our script:\n",
      "You have 10 cheeses!\n",
      "You have 50 boxes of crackers!\n",
      "Man that's enough for a party!\n",
      "Get a blanket.\n",
      "\n",
      "We can even do math inside too:\n",
      "You have 30 cheeses!\n",
      "You have 11 boxes of crackers!\n",
      "Man that's enough for a party!\n",
      "Get a blanket.\n",
      "\n",
      "And we can combine the two, variables and math:\n",
      "You have 110 cheeses!\n",
      "You have 1050 boxes of crackers!\n",
      "Man that's enough for a party!\n",
      "Get a blanket.\n",
      "\n"
     ]
    }
   ],
   "source": [
    "#ex19\n",
    "def cheese_and_crackers(cheese_count,boxes_of_crackers):\n",
    "    print(f\"You have {cheese_count} cheeses!\")\n",
    "    print(f\"You have {boxes_of_crackers} boxes of crackers!\")\n",
    "    print(\"Man that's enough for a party!\")\n",
    "    print(\"Get a blanket.\\n\")\n",
    "print(\"We can just give the function numbers directly:\")\n",
    "cheese_and_crackers(20,30)\n",
    "\n",
    "print(\"OR, we can use variables from our script:\")\n",
    "amount_of_cheese = 10\n",
    "amount_of_crackers = 50\n",
    "cheese_and_crackers(amount_of_cheese,amount_of_crackers)\n",
    "\n",
    "print(\"We can even do math inside too:\")\n",
    "cheese_and_crackers(10+20,5+6)\n",
    "\n",
    "print(\"And we can combine the two, variables and math:\")\n",
    "cheese_and_crackers(amount_of_cheese+100,amount_of_crackers+1000)"
   ]
  },
  {
   "cell_type": "code",
   "execution_count": 14,
   "metadata": {},
   "outputs": [
    {
     "name": "stdout",
     "output_type": "stream",
     "text": [
      "First let's print the whole file:\n",
      "\n",
      "Oh,yeah, I have already erased my previously file.\n",
      "Sure, that old one should be outdated.\n",
      "I will never regret deleted them\n",
      "Oh,yeah, I have already erased my previously file. \n",
      "Sure, that old one should be outdated. \n",
      "I will never regret deleted them  \n",
      "Now let's rewind, kind of like a tape.\n",
      "Now let's print three lines:\n",
      "1 Oh,yeah, I have already erased my previously file.\n",
      "\n",
      "2 Sure, that old one should be outdated.\n",
      "\n",
      "3 I will never regret deleted them\n",
      "\n"
     ]
    }
   ],
   "source": [
    "#ex20\n",
    "from sys import argv\n",
    "script, input_file = argv,\"editor.txt\"\n",
    "\n",
    "def print_all(f):\n",
    "    print(f.read())\n",
    "def rewind(f):\n",
    "    f.seek(0)\n",
    "def print_a_line(line_count,f):\n",
    "    print(line_count,f.readline())\n",
    "\n",
    "current_file = open(input_file)\n",
    "print(\"First let's print the whole file:\\n\")\n",
    "print_all(current_file)\n",
    "print(\"Now let's rewind, kind of like a tape.\")\n",
    "rewind(current_file)\n",
    "print(\"Now let's print three lines:\")\n",
    "current_line=1\n",
    "print_a_line(current_line,current_file)\n",
    "current_line+=1\n",
    "print_a_line(current_line,current_file)\n",
    "current_line+=1\n",
    "print_a_line(current_line,current_file)\n",
    "\n"
   ]
  },
  {
   "cell_type": "code",
   "execution_count": 2,
   "metadata": {},
   "outputs": [
    {
     "name": "stdout",
     "output_type": "stream",
     "text": [
      "Let's do some math with just functions!\n",
      "ADDING30+5\n",
      "SUBTRACTING78-4\n",
      "MULTIPLYING90*2\n",
      "DIVIDING100/2\n",
      "Age: 35,Height: 74, Weight: 180, IQ:50.0\n",
      "Here is a puzzle.\n",
      "DIVIDING50.0/2\n",
      "MULTIPLYING180*25.0\n",
      "SUBTRACTING74-4500.0\n",
      "ADDING35+-4426.0\n",
      "That becomes:  -4391.0 Can you do it by hand?\n"
     ]
    }
   ],
   "source": [
    "#ex21\n",
    "def add(a,b):\n",
    "    print(f\"ADDING{a}+{b}\")\n",
    "    return a+b\n",
    "\n",
    "def subtract(a,b):\n",
    "    print(f\"SUBTRACTING{a}-{b}\")\n",
    "    return a-b\n",
    "def multiply(a,b):\n",
    "    print(f\"MULTIPLYING{a}*{b}\")\n",
    "    return a*b\n",
    "def divide(a,b):\n",
    "    print(f\"DIVIDING{a}/{b}\")\n",
    "    return a/b\n",
    "print(\"Let's do some math with just functions!\")\n",
    "\n",
    "age = add(30,5)\n",
    "height = subtract(78,4)\n",
    "weight = multiply(90,2)\n",
    "iq = divide(100,2)\n",
    "\n",
    "print(f\"Age: {age},Height: {height}, Weight: {weight}, IQ:{iq}\")\n",
    "#A puzzle for the extra credit,type it in anyway\n",
    "print(\"Here is a puzzle.\")\n",
    "what = add(age,subtract(height,multiply(weight,divide(iq,2))))\n",
    "print(\"That becomes: \",what,\"Can you do it by hand?\")"
   ]
  },
  {
   "cell_type": "code",
   "execution_count": 3,
   "metadata": {},
   "outputs": [
    {
     "ename": "LookupError",
     "evalue": "unknown encoding: -f",
     "output_type": "error",
     "traceback": [
      "\u001b[0;31m---------------------------------------------------------------------------\u001b[0m",
      "\u001b[0;31mLookupError\u001b[0m                               Traceback (most recent call last)",
      "\u001b[0;32m<ipython-input-3-15c506c269d9>\u001b[0m in \u001b[0;36m<module>\u001b[0;34m\u001b[0m\n\u001b[1;32m     14\u001b[0m     \u001b[0mprint\u001b[0m\u001b[0;34m(\u001b[0m\u001b[0mraw_bytes\u001b[0m\u001b[0;34m,\u001b[0m\u001b[0;34m\"<==>\"\u001b[0m\u001b[0;34m,\u001b[0m\u001b[0mcooked_string\u001b[0m\u001b[0;34m)\u001b[0m\u001b[0;34m\u001b[0m\u001b[0;34m\u001b[0m\u001b[0m\n\u001b[1;32m     15\u001b[0m \u001b[0mlanguages\u001b[0m \u001b[0;34m=\u001b[0m \u001b[0mopen\u001b[0m\u001b[0;34m(\u001b[0m\u001b[0;34m\"language.txt\"\u001b[0m\u001b[0;34m,\u001b[0m\u001b[0mencoding\u001b[0m\u001b[0;34m=\u001b[0m\u001b[0;34m\"utf-8\"\u001b[0m\u001b[0;34m)\u001b[0m\u001b[0;34m\u001b[0m\u001b[0;34m\u001b[0m\u001b[0m\n\u001b[0;32m---> 16\u001b[0;31m \u001b[0mmain\u001b[0m\u001b[0;34m(\u001b[0m\u001b[0mlanguages\u001b[0m\u001b[0;34m,\u001b[0m\u001b[0mencoding\u001b[0m\u001b[0;34m,\u001b[0m\u001b[0merror\u001b[0m\u001b[0;34m)\u001b[0m\u001b[0;34m\u001b[0m\u001b[0;34m\u001b[0m\u001b[0m\n\u001b[0m\u001b[1;32m     17\u001b[0m \u001b[0;34m\u001b[0m\u001b[0m\n\u001b[1;32m     18\u001b[0m \u001b[0;34m\u001b[0m\u001b[0m\n",
      "\u001b[0;32m<ipython-input-3-15c506c269d9>\u001b[0m in \u001b[0;36mmain\u001b[0;34m(language_file, encoding, errors)\u001b[0m\n\u001b[1;32m      6\u001b[0m     \u001b[0mline\u001b[0m \u001b[0;34m=\u001b[0m \u001b[0mlanguage_file\u001b[0m\u001b[0;34m.\u001b[0m\u001b[0mreadline\u001b[0m\u001b[0;34m(\u001b[0m\u001b[0;34m)\u001b[0m\u001b[0;34m\u001b[0m\u001b[0;34m\u001b[0m\u001b[0m\n\u001b[1;32m      7\u001b[0m     \u001b[0;32mif\u001b[0m \u001b[0mline\u001b[0m\u001b[0;34m:\u001b[0m\u001b[0;34m\u001b[0m\u001b[0;34m\u001b[0m\u001b[0m\n\u001b[0;32m----> 8\u001b[0;31m         \u001b[0mprint_line\u001b[0m\u001b[0;34m(\u001b[0m\u001b[0mline\u001b[0m\u001b[0;34m,\u001b[0m\u001b[0mencoding\u001b[0m\u001b[0;34m,\u001b[0m\u001b[0merrors\u001b[0m\u001b[0;34m)\u001b[0m\u001b[0;34m\u001b[0m\u001b[0;34m\u001b[0m\u001b[0m\n\u001b[0m\u001b[1;32m      9\u001b[0m         \u001b[0;32mreturn\u001b[0m \u001b[0mmain\u001b[0m\u001b[0;34m(\u001b[0m\u001b[0mlanguage_file\u001b[0m\u001b[0;34m,\u001b[0m\u001b[0mencoding\u001b[0m\u001b[0;34m,\u001b[0m\u001b[0merrors\u001b[0m\u001b[0;34m)\u001b[0m\u001b[0;34m\u001b[0m\u001b[0;34m\u001b[0m\u001b[0m\n\u001b[1;32m     10\u001b[0m \u001b[0;32mdef\u001b[0m \u001b[0mprint_line\u001b[0m\u001b[0;34m(\u001b[0m\u001b[0mline\u001b[0m\u001b[0;34m,\u001b[0m\u001b[0mencoding\u001b[0m\u001b[0;34m,\u001b[0m\u001b[0merrors\u001b[0m\u001b[0;34m)\u001b[0m\u001b[0;34m:\u001b[0m\u001b[0;34m\u001b[0m\u001b[0;34m\u001b[0m\u001b[0m\n",
      "\u001b[0;32m<ipython-input-3-15c506c269d9>\u001b[0m in \u001b[0;36mprint_line\u001b[0;34m(line, encoding, errors)\u001b[0m\n\u001b[1;32m     10\u001b[0m \u001b[0;32mdef\u001b[0m \u001b[0mprint_line\u001b[0m\u001b[0;34m(\u001b[0m\u001b[0mline\u001b[0m\u001b[0;34m,\u001b[0m\u001b[0mencoding\u001b[0m\u001b[0;34m,\u001b[0m\u001b[0merrors\u001b[0m\u001b[0;34m)\u001b[0m\u001b[0;34m:\u001b[0m\u001b[0;34m\u001b[0m\u001b[0;34m\u001b[0m\u001b[0m\n\u001b[1;32m     11\u001b[0m     \u001b[0mnext_lang\u001b[0m \u001b[0;34m=\u001b[0m \u001b[0mline\u001b[0m\u001b[0;34m.\u001b[0m\u001b[0mstrip\u001b[0m\u001b[0;34m(\u001b[0m\u001b[0;34m)\u001b[0m\u001b[0;34m\u001b[0m\u001b[0;34m\u001b[0m\u001b[0m\n\u001b[0;32m---> 12\u001b[0;31m     \u001b[0mraw_bytes\u001b[0m \u001b[0;34m=\u001b[0m \u001b[0mnext_lang\u001b[0m\u001b[0;34m.\u001b[0m\u001b[0mencode\u001b[0m\u001b[0;34m(\u001b[0m\u001b[0mencoding\u001b[0m\u001b[0;34m,\u001b[0m\u001b[0merrors\u001b[0m\u001b[0;34m=\u001b[0m\u001b[0merrors\u001b[0m\u001b[0;34m)\u001b[0m\u001b[0;34m\u001b[0m\u001b[0;34m\u001b[0m\u001b[0m\n\u001b[0m\u001b[1;32m     13\u001b[0m     \u001b[0mcooked_string\u001b[0m \u001b[0;34m=\u001b[0m \u001b[0mraw_bytes\u001b[0m\u001b[0;34m.\u001b[0m\u001b[0mdecode\u001b[0m\u001b[0;34m(\u001b[0m\u001b[0mencoding\u001b[0m\u001b[0;34m,\u001b[0m\u001b[0merrors\u001b[0m\u001b[0;34m=\u001b[0m\u001b[0merrors\u001b[0m\u001b[0;34m)\u001b[0m\u001b[0;34m\u001b[0m\u001b[0;34m\u001b[0m\u001b[0m\n\u001b[1;32m     14\u001b[0m     \u001b[0mprint\u001b[0m\u001b[0;34m(\u001b[0m\u001b[0mraw_bytes\u001b[0m\u001b[0;34m,\u001b[0m\u001b[0;34m\"<==>\"\u001b[0m\u001b[0;34m,\u001b[0m\u001b[0mcooked_string\u001b[0m\u001b[0;34m)\u001b[0m\u001b[0;34m\u001b[0m\u001b[0;34m\u001b[0m\u001b[0m\n",
      "\u001b[0;31mLookupError\u001b[0m: unknown encoding: -f"
     ]
    }
   ],
   "source": [
    "#ex23\n",
    "import sys\n",
    "script,encoding,error = sys.argv\n",
    "\n",
    "def main(language_file,encoding,errors):\n",
    "    line = language_file.readline()\n",
    "    if line:\n",
    "        print_line(line,encoding,errors)\n",
    "        return main(language_file,encoding,errors)\n",
    "def print_line(line,encoding,errors):\n",
    "    next_lang = line.strip()\n",
    "    raw_bytes = next_lang.encode(encoding,errors=errors)\n",
    "    cooked_string = raw_bytes.decode(encoding,errors=errors)\n",
    "    print(raw_bytes,\"<==>\",cooked_string)\n",
    "languages = open(\"language.txt\",encoding=\"utf-8\")\n",
    "main(languages,encoding,error)\n",
    "    \n",
    "    \n",
    "    \n",
    "    "
   ]
  },
  {
   "cell_type": "code",
   "execution_count": null,
   "metadata": {},
   "outputs": [],
   "source": []
  }
 ],
 "metadata": {
  "kernelspec": {
   "display_name": "Python 3",
   "language": "python",
   "name": "python3"
  },
  "language_info": {
   "codemirror_mode": {
    "name": "ipython",
    "version": 3
   },
   "file_extension": ".py",
   "mimetype": "text/x-python",
   "name": "python",
   "nbconvert_exporter": "python",
   "pygments_lexer": "ipython3",
   "version": "3.7.3"
  }
 },
 "nbformat": 4,
 "nbformat_minor": 2
}
